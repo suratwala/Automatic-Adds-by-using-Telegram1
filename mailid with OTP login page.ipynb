{
 "cells": [
  {
   "cell_type": "code",
   "execution_count": 1,
   "id": "30f4e909",
   "metadata": {},
   "outputs": [],
   "source": [
    "import random\n",
    "import smtplib"
   ]
  },
  {
   "cell_type": "code",
   "execution_count": 2,
   "id": "690fc0c1",
   "metadata": {},
   "outputs": [],
   "source": [
    "s = smtplib.SMTP('smtp.gmail.com', 587)\n",
    "s.starttls()\n",
    "\n",
    "s.login(\"foramsuratwala@gmail.com\", \"eisjhvjrvijqkfdy\") # 1. your own gmail id and 2. Atter comma part is your gmail id app password \n",
    "try:\n",
    "    otp=''.join([str(random.randint(0,9)) for i in range(6)])\n",
    "    msg='Hello, Your OTP is '+str(otp)\n",
    "except Exception as a:\n",
    "    print(a)\n",
    "sender='foramsuratwala@gmail.com'  #write email id of sender\n",
    "receiver=['shubhamsuratwala21@gmail.com','foram89833@gmail.com','falguni7972@gmail.com'] #write email of receiver\n",
    "#sendi\n",
    "s.sendmail(sender,receiver,msg)\n",
    "s.close()"
   ]
  },
  {
   "cell_type": "code",
   "execution_count": null,
   "id": "55c41d9e",
   "metadata": {},
   "outputs": [],
   "source": []
  },
  {
   "cell_type": "markdown",
   "id": "fdbf63e6",
   "metadata": {},
   "source": [
    "# Open OTP with telegram login page by using twinker "
   ]
  },
  {
   "cell_type": "code",
   "execution_count": 2,
   "id": "e704caf3",
   "metadata": {},
   "outputs": [],
   "source": [
    "import tkinter\n",
    "from tkinter import messagebox\n",
    "import webbrowser\n",
    "import random\n",
    "import smtplib"
   ]
  },
  {
   "cell_type": "code",
   "execution_count": 3,
   "id": "4f1f23d9",
   "metadata": {},
   "outputs": [],
   "source": [
    "\n",
    "\n",
    "window = tkinter.Tk()\n",
    "window.title(\"Login form\")\n",
    "window.geometry('340x440')\n",
    "window.configure(bg='#333333')\n",
    "\n",
    "## OTP verify by using Tkinker\n",
    "\n",
    "s = smtplib.SMTP('smtp.gmail.com', 587)\n",
    "s.starttls()\n",
    "\n",
    "s.login(\"foramsuratwala@gmail.com\", \"eisjhvjrvijqkfdy\") # 1. your own gmail id and 2. Atter comma part is your gmail id app password \n",
    "try:\n",
    "    otp=''.join([str(random.randint(0,9)) for i in range(6)])\n",
    "    msg='Hello, Your OTP is '+str(otp)\n",
    "except Exception as a:\n",
    "    print(a)\n",
    "\n",
    "\n",
    "def login():\n",
    "    username = 'foramsuratwala@gmail.com'  #write email id of sender\n",
    "    password = ['shubhamsuratwala21@gmail.com','foram89833@gmail.com','falguni7972@gmail.com'] #write email of receiver\n",
    "    #sendi\n",
    "    s.sendmail(sender,receiver,msg)\n",
    "    s.close()\n",
    "    if username_entry.get()==username and password_entry.get()==password:\n",
    "        messagebox.showinfo(title=\"Login Success\", message=\"You successfully logged in.\")\n",
    "        \n",
    "        webbrowser.open(\"https://web.telegram.org/z/\")\n",
    "    else:\n",
    "        messagebox.showerror(title=\"Error\", message=\"Invalid login.\")\n",
    "\n",
    "frame = tkinter.Frame(bg='#333333')\n",
    "\n",
    "# Creating widgets\n",
    "login_label = tkinter.Label(\n",
    "    frame, text=\"Login\", bg='#333333', fg=\"#FF3399\", font=(\"Arial\", 30))\n",
    "username_label = tkinter.Label(\n",
    "    frame, text=\"Username\", bg='#333333', fg=\"#FFFFFF\", font=(\"Arial\", 16))\n",
    "username_entry = tkinter.Entry(frame, font=(\"Arial\", 16))\n",
    "password_entry = tkinter.Entry(frame, show=\"*\", font=(\"Arial\", 16))\n",
    "password_label = tkinter.Label(\n",
    "    frame, text=\"Password\", bg='#333333', fg=\"#FFFFFF\", font=(\"Arial\", 16))\n",
    "login_button = tkinter.Button(\n",
    "    frame, text=\"Login\", bg=\"#FF3399\", fg=\"#FFFFFF\", font=(\"Arial\", 16), command=login)\n",
    "\n",
    "# Placing widgets on the screen\n",
    "login_label.grid(row=0, column=0, columnspan=2, sticky=\"news\", pady=40)\n",
    "username_label.grid(row=1, column=0)\n",
    "username_entry.grid(row=1, column=1, pady=20)\n",
    "password_label.grid(row=2, column=0)\n",
    "password_entry.grid(row=2, column=1, pady=20)\n",
    "login_button.grid(row=3, column=0, columnspan=2, pady=30)\n",
    "\n",
    "frame.pack()\n",
    "\n",
    "window.mainloop()"
   ]
  },
  {
   "cell_type": "code",
   "execution_count": null,
   "id": "4cca4d97",
   "metadata": {},
   "outputs": [],
   "source": []
  },
  {
   "cell_type": "code",
   "execution_count": null,
   "id": "ee2d852c",
   "metadata": {},
   "outputs": [],
   "source": []
  },
  {
   "cell_type": "code",
   "execution_count": null,
   "id": "7a92da6b",
   "metadata": {},
   "outputs": [],
   "source": [
    "\n"
   ]
  }
 ],
 "metadata": {
  "kernelspec": {
   "display_name": "Python 3 (ipykernel)",
   "language": "python",
   "name": "python3"
  },
  "language_info": {
   "codemirror_mode": {
    "name": "ipython",
    "version": 3
   },
   "file_extension": ".py",
   "mimetype": "text/x-python",
   "name": "python",
   "nbconvert_exporter": "python",
   "pygments_lexer": "ipython3",
   "version": "3.9.12"
  }
 },
 "nbformat": 4,
 "nbformat_minor": 5
}
