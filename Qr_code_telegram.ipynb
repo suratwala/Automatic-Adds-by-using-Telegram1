{
 "cells": [
  {
   "cell_type": "code",
   "execution_count": 1,
   "id": "1452a094",
   "metadata": {},
   "outputs": [
    {
     "name": "stdout",
     "output_type": "stream",
     "text": [
      "QR code generated!\n"
     ]
    }
   ],
   "source": [
    "# import modules\n",
    "import qrcode\n",
    "from PIL import Image\n",
    "\n",
    "# taking image which user wants\n",
    "# in the QR code center\n",
    "Logo_link = 'E:\\\\Telegram-message\\\\telegram_logo.jpg'\n",
    "\n",
    "logo = Image.open(Logo_link)\n",
    "\n",
    "# taking base width\n",
    "basewidth = 100\n",
    "\n",
    "# adjust image size\n",
    "wpercent = (basewidth/float(logo.size[0]))\n",
    "hsize = int((float(logo.size[1])*float(wpercent)))\n",
    "logo = logo.resize((basewidth, hsize), Image.ANTIALIAS)\n",
    "QRcode = qrcode.QRCode(\n",
    "    error_correction=qrcode.constants.ERROR_CORRECT_H\n",
    ")\n",
    "\n",
    "# taking url or text\n",
    "url = 'https://web.telegram.org/'\n",
    "#url1 ='https://web.telegram.org/z/' note:- this is own(creater) telegram open url page\n",
    "\n",
    "# adding URL or text to QRcode\n",
    "QRcode.add_data(url)\n",
    "\n",
    "QRcode.add_data(url1)\n",
    "\n",
    "# generating QR code\n",
    "QRcode.make()\n",
    "\n",
    "# taking color name from user\n",
    "QRcolor = 'orange'\n",
    "\n",
    "# adding color to QR code\n",
    "QRimg = QRcode.make_image(\n",
    "    fill_color=QRcolor, back_color=\"white\").convert('RGB')\n",
    "\n",
    "# set size of QR code\n",
    "pos = ((QRimg.size[0] - logo.size[0]) // 2,\n",
    "       (QRimg.size[1] - logo.size[1]) // 2)\n",
    "QRimg.paste(logo, pos)\n",
    "\n",
    "# save the QR code generated\n",
    "QRimg.save('foram_QR.png')\n",
    "\n",
    "print('QR code generated!')\n"
   ]
  },
  {
   "cell_type": "code",
   "execution_count": null,
   "id": "53f6dc53",
   "metadata": {},
   "outputs": [],
   "source": []
  }
 ],
 "metadata": {
  "kernelspec": {
   "display_name": "Python 3 (ipykernel)",
   "language": "python",
   "name": "python3"
  },
  "language_info": {
   "codemirror_mode": {
    "name": "ipython",
    "version": 3
   },
   "file_extension": ".py",
   "mimetype": "text/x-python",
   "name": "python",
   "nbconvert_exporter": "python",
   "pygments_lexer": "ipython3",
   "version": "3.9.12"
  }
 },
 "nbformat": 4,
 "nbformat_minor": 5
}
