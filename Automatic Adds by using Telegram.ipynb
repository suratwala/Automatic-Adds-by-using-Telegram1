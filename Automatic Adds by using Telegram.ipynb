{
 "cells": [
  {
   "cell_type": "markdown",
   "metadata": {},
   "source": [
    "#  Automatic Adds by using Telegram"
   ]
  },
  {
   "cell_type": "markdown",
   "metadata": {},
   "source": [
    " # How to create bot URL\n",
    "    1. Open Telegram.\n",
    "    2. Type search bar for BotFather.\n",
    "    3. Type '/newbot'.\n",
    "    4. Now let choose a username for your bot. It must end in `bot`. Like this, for example: TetrisBot or tetris_bot.\n",
    "    5. Type '/setprivacy'.\n",
    "    6. Type @create own username bot.\n",
    "    7. privacy disable.\n",
    "    8. create own group and add created bot member."
   ]
  },
  {
   "cell_type": "markdown",
   "metadata": {},
   "source": [
    "# create own boat URL"
   ]
  },
  {
   "cell_type": "code",
   "execution_count": 36,
   "metadata": {},
   "outputs": [
    {
     "name": "stdout",
     "output_type": "stream",
     "text": [
      "{\"ok\":true,\"result\":[{\"update_id\":684736656,\n",
      "\"message\":{\"message_id\":123,\"from\":{\"id\":1153502926,\"is_bot\":false,\"first_name\":\"Foram\",\"last_name\":\"Suratwala\"},\"chat\":{\"id\":-752903550,\"title\":\"Bilated\",\"type\":\"group\",\"all_members_are_administrators\":true},\"date\":1661521696,\"group_chat_created\":true}},{\"update_id\":684736657,\n",
      "\"my_chat_member\":{\"chat\":{\"id\":-674797008,\"title\":\"Happy family\",\"type\":\"group\",\"all_members_are_administrators\":true},\"from\":{\"id\":1153502926,\"is_bot\":false,\"first_name\":\"Foram\",\"last_name\":\"Suratwala\"},\"date\":1661521705,\"old_chat_member\":{\"user\":{\"id\":5665382544,\"is_bot\":true,\"first_name\":\"Foram bot\",\"username\":\"shubham_panwala_bot\"},\"status\":\"member\"},\"new_chat_member\":{\"user\":{\"id\":5665382544,\"is_bot\":true,\"first_name\":\"Foram bot\",\"username\":\"shubham_panwala_bot\"},\"status\":\"left\"}}},{\"update_id\":684736658,\n",
      "\"message\":{\"message_id\":124,\"from\":{\"id\":1153502926,\"is_bot\":false,\"first_name\":\"Foram\",\"last_name\":\"Suratwala\"},\"chat\":{\"id\":-674797008,\"title\":\"Happy family\",\"type\":\"group\",\"all_members_are_administrators\":true},\"date\":1661521705,\"left_chat_participant\":{\"id\":5665382544,\"is_bot\":true,\"first_name\":\"Foram bot\",\"username\":\"shubham_panwala_bot\"},\"left_chat_member\":{\"id\":5665382544,\"is_bot\":true,\"first_name\":\"Foram bot\",\"username\":\"shubham_panwala_bot\"}}},{\"update_id\":684736659,\n",
      "\"message\":{\"message_id\":2,\"from\":{\"id\":1153502926,\"is_bot\":false,\"first_name\":\"Foram\",\"last_name\":\"Suratwala\"},\"chat\":{\"id\":-1001507698099,\"title\":\"Ooo\",\"type\":\"supergroup\"},\"date\":1661521759,\"left_chat_participant\":{\"id\":1153502926,\"is_bot\":false,\"first_name\":\"Foram\",\"last_name\":\"Suratwala\"},\"left_chat_member\":{\"id\":1153502926,\"is_bot\":false,\"first_name\":\"Foram\",\"last_name\":\"Suratwala\"}}},{\"update_id\":684736660,\n",
      "\"my_chat_member\":{\"chat\":{\"id\":-1001507698099,\"title\":\"Ooo\",\"type\":\"supergroup\"},\"from\":{\"id\":1958189402,\"is_bot\":false,\"first_name\":\"Shubham\",\"last_name\":\"Suratwala\"},\"date\":1661522146,\"old_chat_member\":{\"user\":{\"id\":5665382544,\"is_bot\":true,\"first_name\":\"Foram bot\",\"username\":\"shubham_panwala_bot\"},\"status\":\"administrator\",\"can_be_edited\":false,\"can_manage_chat\":true,\"can_change_info\":true,\"can_delete_messages\":true,\"can_invite_users\":true,\"can_restrict_members\":true,\"can_pin_messages\":true,\"can_promote_members\":true,\"can_manage_video_chats\":true,\"is_anonymous\":false,\"can_manage_voice_chats\":true},\"new_chat_member\":{\"user\":{\"id\":5665382544,\"is_bot\":true,\"first_name\":\"Foram bot\",\"username\":\"shubham_panwala_bot\"},\"status\":\"kicked\",\"until_date\":0}}},{\"update_id\":684736661,\n",
      "\"message\":{\"message_id\":3,\"from\":{\"id\":1958189402,\"is_bot\":false,\"first_name\":\"Shubham\",\"last_name\":\"Suratwala\"},\"chat\":{\"id\":-1001507698099,\"title\":\"Ooo\",\"type\":\"supergroup\"},\"date\":1661522146,\"left_chat_participant\":{\"id\":5665382544,\"is_bot\":true,\"first_name\":\"Foram bot\",\"username\":\"shubham_panwala_bot\"},\"left_chat_member\":{\"id\":5665382544,\"is_bot\":true,\"first_name\":\"Foram bot\",\"username\":\"shubham_panwala_bot\"}}},{\"update_id\":684736662,\n",
      "\"my_chat_member\":{\"chat\":{\"id\":-674797008,\"title\":\"Happy family\",\"type\":\"group\",\"all_members_are_administrators\":true},\"from\":{\"id\":1153502926,\"is_bot\":false,\"first_name\":\"Foram\",\"last_name\":\"Suratwala\"},\"date\":1661522149,\"old_chat_member\":{\"user\":{\"id\":5665382544,\"is_bot\":true,\"first_name\":\"Foram bot\",\"username\":\"shubham_panwala_bot\"},\"status\":\"left\"},\"new_chat_member\":{\"user\":{\"id\":5665382544,\"is_bot\":true,\"first_name\":\"Foram bot\",\"username\":\"shubham_panwala_bot\"},\"status\":\"member\"}}},{\"update_id\":684736663,\n",
      "\"message\":{\"message_id\":125,\"from\":{\"id\":1153502926,\"is_bot\":false,\"first_name\":\"Foram\",\"last_name\":\"Suratwala\"},\"chat\":{\"id\":-674797008,\"title\":\"Happy family\",\"type\":\"group\",\"all_members_are_administrators\":true},\"date\":1661522149,\"new_chat_participant\":{\"id\":5665382544,\"is_bot\":true,\"first_name\":\"Foram bot\",\"username\":\"shubham_panwala_bot\"},\"new_chat_member\":{\"id\":5665382544,\"is_bot\":true,\"first_name\":\"Foram bot\",\"username\":\"shubham_panwala_bot\"},\"new_chat_members\":[{\"id\":5665382544,\"is_bot\":true,\"first_name\":\"Foram bot\",\"username\":\"shubham_panwala_bot\"}]}},{\"update_id\":684736664,\n",
      "\"message\":{\"message_id\":157,\"from\":{\"id\":1153502926,\"is_bot\":false,\"first_name\":\"Foram\",\"last_name\":\"Suratwala\"},\"chat\":{\"id\":-752903550,\"title\":\"Bilated\",\"type\":\"group\",\"all_members_are_administrators\":true},\"date\":1661525607,\"text\":\"hki\"}},{\"update_id\":684736665,\n",
      "\"message\":{\"message_id\":158,\"from\":{\"id\":1153502926,\"is_bot\":false,\"first_name\":\"Foram\",\"last_name\":\"Suratwala\"},\"chat\":{\"id\":-752903550,\"title\":\"Bilated\",\"type\":\"group\",\"all_members_are_administrators\":true},\"date\":1661525610,\"text\":\"lop\"}},{\"update_id\":684736666,\n",
      "\"message\":{\"message_id\":159,\"from\":{\"id\":1153502926,\"is_bot\":false,\"first_name\":\"Foram\",\"last_name\":\"Suratwala\"},\"chat\":{\"id\":-752903550,\"title\":\"Bilated\",\"type\":\"group\",\"all_members_are_administrators\":true},\"date\":1661525646,\"text\":\"happy\"}},{\"update_id\":684736667,\n",
      "\"message\":{\"message_id\":160,\"from\":{\"id\":1153502926,\"is_bot\":false,\"first_name\":\"Foram\",\"last_name\":\"Suratwala\"},\"chat\":{\"id\":-752903550,\"title\":\"Bilated\",\"type\":\"group\",\"all_members_are_administrators\":true},\"date\":1661525777,\"text\":\"boaring\"}},{\"update_id\":684736668,\n",
      "\"my_chat_member\":{\"chat\":{\"id\":-1001731409307,\"title\":\"Ooo\",\"type\":\"supergroup\"},\"from\":{\"id\":1153502926,\"is_bot\":false,\"first_name\":\"Foram\",\"last_name\":\"Suratwala\"},\"date\":1661525833,\"old_chat_member\":{\"user\":{\"id\":5665382544,\"is_bot\":true,\"first_name\":\"Foram bot\",\"username\":\"shubham_panwala_bot\"},\"status\":\"left\"},\"new_chat_member\":{\"user\":{\"id\":5665382544,\"is_bot\":true,\"first_name\":\"Foram bot\",\"username\":\"shubham_panwala_bot\"},\"status\":\"member\"}}},{\"update_id\":684736669,\n",
      "\"message\":{\"message_id\":8,\"from\":{\"id\":1153502926,\"is_bot\":false,\"first_name\":\"Foram\",\"last_name\":\"Suratwala\"},\"chat\":{\"id\":-1001731409307,\"title\":\"Ooo\",\"type\":\"supergroup\"},\"date\":1661525833,\"new_chat_participant\":{\"id\":5665382544,\"is_bot\":true,\"first_name\":\"Foram bot\",\"username\":\"shubham_panwala_bot\"},\"new_chat_member\":{\"id\":5665382544,\"is_bot\":true,\"first_name\":\"Foram bot\",\"username\":\"shubham_panwala_bot\"},\"new_chat_members\":[{\"id\":5665382544,\"is_bot\":true,\"first_name\":\"Foram bot\",\"username\":\"shubham_panwala_bot\"}]}},{\"update_id\":684736670,\n",
      "\"my_chat_member\":{\"chat\":{\"id\":-1001731409307,\"title\":\"Ooo\",\"type\":\"supergroup\"},\"from\":{\"id\":1958189402,\"is_bot\":false,\"first_name\":\"Shubham\",\"last_name\":\"Suratwala\"},\"date\":1661525962,\"old_chat_member\":{\"user\":{\"id\":5665382544,\"is_bot\":true,\"first_name\":\"Foram bot\",\"username\":\"shubham_panwala_bot\"},\"status\":\"member\"},\"new_chat_member\":{\"user\":{\"id\":5665382544,\"is_bot\":true,\"first_name\":\"Foram bot\",\"username\":\"shubham_panwala_bot\"},\"status\":\"administrator\",\"can_be_edited\":false,\"can_manage_chat\":true,\"can_change_info\":true,\"can_delete_messages\":true,\"can_invite_users\":true,\"can_restrict_members\":true,\"can_pin_messages\":true,\"can_promote_members\":true,\"can_manage_video_chats\":true,\"is_anonymous\":false,\"can_manage_voice_chats\":true}}},{\"update_id\":684736671,\n",
      "\"message\":{\"message_id\":9,\"from\":{\"id\":1958189402,\"is_bot\":false,\"first_name\":\"Shubham\",\"last_name\":\"Suratwala\"},\"chat\":{\"id\":-1001731409307,\"title\":\"Ooo\",\"type\":\"supergroup\"},\"date\":1661525976,\"text\":\"Yhhgg sec\"}},{\"update_id\":684736672,\n",
      "\"message\":{\"message_id\":10,\"from\":{\"id\":1958189402,\"is_bot\":false,\"first_name\":\"Shubham\",\"last_name\":\"Suratwala\"},\"chat\":{\"id\":-1001731409307,\"title\":\"Ooo\",\"type\":\"supergroup\"},\"date\":1661525978,\"text\":\"Dee\"}},{\"update_id\":684736673,\n",
      "\"message\":{\"message_id\":11,\"from\":{\"id\":1958189402,\"is_bot\":false,\"first_name\":\"Shubham\",\"last_name\":\"Suratwala\"},\"chat\":{\"id\":-1001731409307,\"title\":\"Ooo\",\"type\":\"supergroup\"},\"date\":1661525981,\"text\":\"Hh\"}}]}\n"
     ]
    }
   ],
   "source": [
    "import requests\n",
    "\n",
    "p = requests.get(\"https://api.telegram.org/bot5665382544:AAGalE88IjUtJRD4b7UxuPbhOeBZTpzKvFg/getupdates\")\n",
    "print(p.text)\n",
    "\n"
   ]
  },
  {
   "cell_type": "code",
   "execution_count": 37,
   "metadata": {},
   "outputs": [
    {
     "name": "stdout",
     "output_type": "stream",
     "text": [
      "{\"ok\":true,\"result\":[{\"update_id\":684736662,\n",
      "\"my_chat_member\":{\"chat\":{\"id\":-674797008,\"title\":\"Happy family\",\"type\":\"group\",\"all_members_are_administrators\":true},\"from\":{\"id\":1153502926,\"is_bot\":false,\"first_name\":\"Foram\",\"last_name\":\"Suratwala\"},\"date\":1661522149,\"old_chat_member\":{\"user\":{\"id\":5665382544,\"is_bot\":true,\"first_name\":\"Foram bot\",\"username\":\"shubham_panwala_bot\"},\"status\":\"left\"},\"new_chat_member\":{\"user\":{\"id\":5665382544,\"is_bot\":true,\"first_name\":\"Foram bot\",\"username\":\"shubham_panwala_bot\"},\"status\":\"member\"}}},{\"update_id\":684736663,\n",
      "\"message\":{\"message_id\":125,\"from\":{\"id\":1153502926,\"is_bot\":false,\"first_name\":\"Foram\",\"last_name\":\"Suratwala\"},\"chat\":{\"id\":-674797008,\"title\":\"Happy family\",\"type\":\"group\",\"all_members_are_administrators\":true},\"date\":1661522149,\"new_chat_participant\":{\"id\":5665382544,\"is_bot\":true,\"first_name\":\"Foram bot\",\"username\":\"shubham_panwala_bot\"},\"new_chat_member\":{\"id\":5665382544,\"is_bot\":true,\"first_name\":\"Foram bot\",\"username\":\"shubham_panwala_bot\"},\"new_chat_members\":[{\"id\":5665382544,\"is_bot\":true,\"first_name\":\"Foram bot\",\"username\":\"shubham_panwala_bot\"}]}},{\"update_id\":684736664,\n",
      "\"message\":{\"message_id\":157,\"from\":{\"id\":1153502926,\"is_bot\":false,\"first_name\":\"Foram\",\"last_name\":\"Suratwala\"},\"chat\":{\"id\":-752903550,\"title\":\"Bilated\",\"type\":\"group\",\"all_members_are_administrators\":true},\"date\":1661525607,\"text\":\"hki\"}},{\"update_id\":684736665,\n",
      "\"message\":{\"message_id\":158,\"from\":{\"id\":1153502926,\"is_bot\":false,\"first_name\":\"Foram\",\"last_name\":\"Suratwala\"},\"chat\":{\"id\":-752903550,\"title\":\"Bilated\",\"type\":\"group\",\"all_members_are_administrators\":true},\"date\":1661525610,\"text\":\"lop\"}},{\"update_id\":684736666,\n",
      "\"message\":{\"message_id\":159,\"from\":{\"id\":1153502926,\"is_bot\":false,\"first_name\":\"Foram\",\"last_name\":\"Suratwala\"},\"chat\":{\"id\":-752903550,\"title\":\"Bilated\",\"type\":\"group\",\"all_members_are_administrators\":true},\"date\":1661525646,\"text\":\"happy\"}},{\"update_id\":684736667,\n",
      "\"message\":{\"message_id\":160,\"from\":{\"id\":1153502926,\"is_bot\":false,\"first_name\":\"Foram\",\"last_name\":\"Suratwala\"},\"chat\":{\"id\":-752903550,\"title\":\"Bilated\",\"type\":\"group\",\"all_members_are_administrators\":true},\"date\":1661525777,\"text\":\"boaring\"}},{\"update_id\":684736668,\n",
      "\"my_chat_member\":{\"chat\":{\"id\":-1001731409307,\"title\":\"Ooo\",\"type\":\"supergroup\"},\"from\":{\"id\":1153502926,\"is_bot\":false,\"first_name\":\"Foram\",\"last_name\":\"Suratwala\"},\"date\":1661525833,\"old_chat_member\":{\"user\":{\"id\":5665382544,\"is_bot\":true,\"first_name\":\"Foram bot\",\"username\":\"shubham_panwala_bot\"},\"status\":\"left\"},\"new_chat_member\":{\"user\":{\"id\":5665382544,\"is_bot\":true,\"first_name\":\"Foram bot\",\"username\":\"shubham_panwala_bot\"},\"status\":\"member\"}}},{\"update_id\":684736669,\n",
      "\"message\":{\"message_id\":8,\"from\":{\"id\":1153502926,\"is_bot\":false,\"first_name\":\"Foram\",\"last_name\":\"Suratwala\"},\"chat\":{\"id\":-1001731409307,\"title\":\"Ooo\",\"type\":\"supergroup\"},\"date\":1661525833,\"new_chat_participant\":{\"id\":5665382544,\"is_bot\":true,\"first_name\":\"Foram bot\",\"username\":\"shubham_panwala_bot\"},\"new_chat_member\":{\"id\":5665382544,\"is_bot\":true,\"first_name\":\"Foram bot\",\"username\":\"shubham_panwala_bot\"},\"new_chat_members\":[{\"id\":5665382544,\"is_bot\":true,\"first_name\":\"Foram bot\",\"username\":\"shubham_panwala_bot\"}]}},{\"update_id\":684736670,\n",
      "\"my_chat_member\":{\"chat\":{\"id\":-1001731409307,\"title\":\"Ooo\",\"type\":\"supergroup\"},\"from\":{\"id\":1958189402,\"is_bot\":false,\"first_name\":\"Shubham\",\"last_name\":\"Suratwala\"},\"date\":1661525962,\"old_chat_member\":{\"user\":{\"id\":5665382544,\"is_bot\":true,\"first_name\":\"Foram bot\",\"username\":\"shubham_panwala_bot\"},\"status\":\"member\"},\"new_chat_member\":{\"user\":{\"id\":5665382544,\"is_bot\":true,\"first_name\":\"Foram bot\",\"username\":\"shubham_panwala_bot\"},\"status\":\"administrator\",\"can_be_edited\":false,\"can_manage_chat\":true,\"can_change_info\":true,\"can_delete_messages\":true,\"can_invite_users\":true,\"can_restrict_members\":true,\"can_pin_messages\":true,\"can_promote_members\":true,\"can_manage_video_chats\":true,\"is_anonymous\":false,\"can_manage_voice_chats\":true}}},{\"update_id\":684736671,\n",
      "\"message\":{\"message_id\":9,\"from\":{\"id\":1958189402,\"is_bot\":false,\"first_name\":\"Shubham\",\"last_name\":\"Suratwala\"},\"chat\":{\"id\":-1001731409307,\"title\":\"Ooo\",\"type\":\"supergroup\"},\"date\":1661525976,\"text\":\"Yhhgg sec\"}},{\"update_id\":684736672,\n",
      "\"message\":{\"message_id\":10,\"from\":{\"id\":1958189402,\"is_bot\":false,\"first_name\":\"Shubham\",\"last_name\":\"Suratwala\"},\"chat\":{\"id\":-1001731409307,\"title\":\"Ooo\",\"type\":\"supergroup\"},\"date\":1661525978,\"text\":\"Dee\"}},{\"update_id\":684736673,\n",
      "\"message\":{\"message_id\":11,\"from\":{\"id\":1958189402,\"is_bot\":false,\"first_name\":\"Shubham\",\"last_name\":\"Suratwala\"},\"chat\":{\"id\":-1001731409307,\"title\":\"Ooo\",\"type\":\"supergroup\"},\"date\":1661525981,\"text\":\"Hh\"}}]}\n"
     ]
    }
   ],
   "source": [
    "import requests\n",
    "\n",
    "p = requests.get(\"https://api.telegram.org/bot5665382544:AAGalE88IjUtJRD4b7UxuPbhOeBZTpzKvFg/getupdates?offset=684736662?offset=684736669?offset=684736656\")\n",
    "print(p.text)"
   ]
  },
  {
   "cell_type": "markdown",
   "metadata": {},
   "source": [
    "# Read Data From Groups"
   ]
  },
  {
   "cell_type": "code",
   "execution_count": 1,
   "metadata": {},
   "outputs": [
    {
     "name": "stdout",
     "output_type": "stream",
     "text": [
      "{\"ok\":true,\"result\":[{\"update_id\":684736662,\n",
      "\"my_chat_member\":{\"chat\":{\"id\":-674797008,\"title\":\"Happy family\",\"type\":\"group\",\"all_members_are_administrators\":true},\"from\":{\"id\":1153502926,\"is_bot\":false,\"first_name\":\"Foram\",\"last_name\":\"Suratwala\"},\"date\":1661522149,\"old_chat_member\":{\"user\":{\"id\":5665382544,\"is_bot\":true,\"first_name\":\"Foram bot\",\"username\":\"shubham_panwala_bot\"},\"status\":\"left\"},\"new_chat_member\":{\"user\":{\"id\":5665382544,\"is_bot\":true,\"first_name\":\"Foram bot\",\"username\":\"shubham_panwala_bot\"},\"status\":\"member\"}}},{\"update_id\":684736663,\n",
      "\"message\":{\"message_id\":125,\"from\":{\"id\":1153502926,\"is_bot\":false,\"first_name\":\"Foram\",\"last_name\":\"Suratwala\"},\"chat\":{\"id\":-674797008,\"title\":\"Happy family\",\"type\":\"group\",\"all_members_are_administrators\":true},\"date\":1661522149,\"new_chat_participant\":{\"id\":5665382544,\"is_bot\":true,\"first_name\":\"Foram bot\",\"username\":\"shubham_panwala_bot\"},\"new_chat_member\":{\"id\":5665382544,\"is_bot\":true,\"first_name\":\"Foram bot\",\"username\":\"shubham_panwala_bot\"},\"new_chat_members\":[{\"id\":5665382544,\"is_bot\":true,\"first_name\":\"Foram bot\",\"username\":\"shubham_panwala_bot\"}]}},{\"update_id\":684736664,\n",
      "\"message\":{\"message_id\":157,\"from\":{\"id\":1153502926,\"is_bot\":false,\"first_name\":\"Foram\",\"last_name\":\"Suratwala\"},\"chat\":{\"id\":-752903550,\"title\":\"Bilated\",\"type\":\"group\",\"all_members_are_administrators\":true},\"date\":1661525607,\"text\":\"hki\"}},{\"update_id\":684736665,\n",
      "\"message\":{\"message_id\":158,\"from\":{\"id\":1153502926,\"is_bot\":false,\"first_name\":\"Foram\",\"last_name\":\"Suratwala\"},\"chat\":{\"id\":-752903550,\"title\":\"Bilated\",\"type\":\"group\",\"all_members_are_administrators\":true},\"date\":1661525610,\"text\":\"lop\"}},{\"update_id\":684736666,\n",
      "\"message\":{\"message_id\":159,\"from\":{\"id\":1153502926,\"is_bot\":false,\"first_name\":\"Foram\",\"last_name\":\"Suratwala\"},\"chat\":{\"id\":-752903550,\"title\":\"Bilated\",\"type\":\"group\",\"all_members_are_administrators\":true},\"date\":1661525646,\"text\":\"happy\"}},{\"update_id\":684736667,\n",
      "\"message\":{\"message_id\":160,\"from\":{\"id\":1153502926,\"is_bot\":false,\"first_name\":\"Foram\",\"last_name\":\"Suratwala\"},\"chat\":{\"id\":-752903550,\"title\":\"Bilated\",\"type\":\"group\",\"all_members_are_administrators\":true},\"date\":1661525777,\"text\":\"boaring\"}},{\"update_id\":684736668,\n",
      "\"my_chat_member\":{\"chat\":{\"id\":-1001731409307,\"title\":\"Ooo\",\"type\":\"supergroup\"},\"from\":{\"id\":1153502926,\"is_bot\":false,\"first_name\":\"Foram\",\"last_name\":\"Suratwala\"},\"date\":1661525833,\"old_chat_member\":{\"user\":{\"id\":5665382544,\"is_bot\":true,\"first_name\":\"Foram bot\",\"username\":\"shubham_panwala_bot\"},\"status\":\"left\"},\"new_chat_member\":{\"user\":{\"id\":5665382544,\"is_bot\":true,\"first_name\":\"Foram bot\",\"username\":\"shubham_panwala_bot\"},\"status\":\"member\"}}},{\"update_id\":684736669,\n",
      "\"message\":{\"message_id\":8,\"from\":{\"id\":1153502926,\"is_bot\":false,\"first_name\":\"Foram\",\"last_name\":\"Suratwala\"},\"chat\":{\"id\":-1001731409307,\"title\":\"Ooo\",\"type\":\"supergroup\"},\"date\":1661525833,\"new_chat_participant\":{\"id\":5665382544,\"is_bot\":true,\"first_name\":\"Foram bot\",\"username\":\"shubham_panwala_bot\"},\"new_chat_member\":{\"id\":5665382544,\"is_bot\":true,\"first_name\":\"Foram bot\",\"username\":\"shubham_panwala_bot\"},\"new_chat_members\":[{\"id\":5665382544,\"is_bot\":true,\"first_name\":\"Foram bot\",\"username\":\"shubham_panwala_bot\"}]}},{\"update_id\":684736670,\n",
      "\"my_chat_member\":{\"chat\":{\"id\":-1001731409307,\"title\":\"Ooo\",\"type\":\"supergroup\"},\"from\":{\"id\":1958189402,\"is_bot\":false,\"first_name\":\"Shubham\",\"last_name\":\"Suratwala\"},\"date\":1661525962,\"old_chat_member\":{\"user\":{\"id\":5665382544,\"is_bot\":true,\"first_name\":\"Foram bot\",\"username\":\"shubham_panwala_bot\"},\"status\":\"member\"},\"new_chat_member\":{\"user\":{\"id\":5665382544,\"is_bot\":true,\"first_name\":\"Foram bot\",\"username\":\"shubham_panwala_bot\"},\"status\":\"administrator\",\"can_be_edited\":false,\"can_manage_chat\":true,\"can_change_info\":true,\"can_delete_messages\":true,\"can_invite_users\":true,\"can_restrict_members\":true,\"can_pin_messages\":true,\"can_promote_members\":true,\"can_manage_video_chats\":true,\"is_anonymous\":false,\"can_manage_voice_chats\":true}}},{\"update_id\":684736671,\n",
      "\"message\":{\"message_id\":9,\"from\":{\"id\":1958189402,\"is_bot\":false,\"first_name\":\"Shubham\",\"last_name\":\"Suratwala\"},\"chat\":{\"id\":-1001731409307,\"title\":\"Ooo\",\"type\":\"supergroup\"},\"date\":1661525976,\"text\":\"Yhhgg sec\"}},{\"update_id\":684736672,\n",
      "\"message\":{\"message_id\":10,\"from\":{\"id\":1958189402,\"is_bot\":false,\"first_name\":\"Shubham\",\"last_name\":\"Suratwala\"},\"chat\":{\"id\":-1001731409307,\"title\":\"Ooo\",\"type\":\"supergroup\"},\"date\":1661525978,\"text\":\"Dee\"}},{\"update_id\":684736673,\n",
      "\"message\":{\"message_id\":11,\"from\":{\"id\":1958189402,\"is_bot\":false,\"first_name\":\"Shubham\",\"last_name\":\"Suratwala\"},\"chat\":{\"id\":-1001731409307,\"title\":\"Ooo\",\"type\":\"supergroup\"},\"date\":1661525981,\"text\":\"Hh\"}}]}\n"
     ]
    }
   ],
   "source": [
    "import requests\n",
    "\n",
    "base_url = \"https://api.telegram.org/bot5665382544:AAGalE88IjUtJRD4b7UxuPbhOeBZTpzKvFg/getUpdates\"\n",
    "\n",
    "parameters = {\n",
    "    \"offset\" : {\"684736673\",\"684736666\",\"684736662\"}\n",
    "}\n",
    "\n",
    "p = requests.get(base_url, data = parameters)\n",
    "print(p.text)\n"
   ]
  },
  {
   "cell_type": "code",
   "execution_count": 2,
   "metadata": {},
   "outputs": [
    {
     "name": "stdout",
     "output_type": "stream",
     "text": [
      "{\"ok\":true,\"result\":[{\"update_id\":684736662,\n",
      "\"my_chat_member\":{\"chat\":{\"id\":-674797008,\"title\":\"Happy family\",\"type\":\"group\",\"all_members_are_administrators\":true},\"from\":{\"id\":1153502926,\"is_bot\":false,\"first_name\":\"Foram\",\"last_name\":\"Suratwala\"},\"date\":1661522149,\"old_chat_member\":{\"user\":{\"id\":5665382544,\"is_bot\":true,\"first_name\":\"Foram bot\",\"username\":\"shubham_panwala_bot\"},\"status\":\"left\"},\"new_chat_member\":{\"user\":{\"id\":5665382544,\"is_bot\":true,\"first_name\":\"Foram bot\",\"username\":\"shubham_panwala_bot\"},\"status\":\"member\"}}},{\"update_id\":684736663,\n",
      "\"message\":{\"message_id\":125,\"from\":{\"id\":1153502926,\"is_bot\":false,\"first_name\":\"Foram\",\"last_name\":\"Suratwala\"},\"chat\":{\"id\":-674797008,\"title\":\"Happy family\",\"type\":\"group\",\"all_members_are_administrators\":true},\"date\":1661522149,\"new_chat_participant\":{\"id\":5665382544,\"is_bot\":true,\"first_name\":\"Foram bot\",\"username\":\"shubham_panwala_bot\"},\"new_chat_member\":{\"id\":5665382544,\"is_bot\":true,\"first_name\":\"Foram bot\",\"username\":\"shubham_panwala_bot\"},\"new_chat_members\":[{\"id\":5665382544,\"is_bot\":true,\"first_name\":\"Foram bot\",\"username\":\"shubham_panwala_bot\"}]}}]}\n"
     ]
    }
   ],
   "source": [
    "import requests\n",
    "\n",
    "base_url = \"https://api.telegram.org/bot5665382544:AAGalE88IjUtJRD4b7UxuPbhOeBZTpzKvFg/getUpdates\"\n",
    "\n",
    "off = {\"684736673\",\"684736666\",\"684736662\"}\n",
    "parameters = {\n",
    "    \"offset\" :off ,\n",
    "    \"limit\" : \"2\"\n",
    "}\n",
    "\n",
    "p = requests.get(base_url, data = parameters)\n",
    "print(p.text)"
   ]
  },
  {
   "cell_type": "code",
   "execution_count": 3,
   "metadata": {},
   "outputs": [
    {
     "name": "stdout",
     "output_type": "stream",
     "text": [
      "{\"ok\":true,\"result\":[{\"update_id\":684736673,\n",
      "\"message\":{\"message_id\":11,\"from\":{\"id\":1958189402,\"is_bot\":false,\"first_name\":\"Shubham\",\"last_name\":\"Suratwala\"},\"chat\":{\"id\":-1001731409307,\"title\":\"Ooo\",\"type\":\"supergroup\"},\"date\":1661525981,\"text\":\"Hh\"}}]}\n"
     ]
    }
   ],
   "source": [
    "import requests\n",
    "\n",
    "p = requests.get(\"https://api.telegram.org/bot5665382544:AAGalE88IjUtJRD4b7UxuPbhOeBZTpzKvFg/getupdates?offset=684736673?offset=684736666?offset=684736662&limit=1\")\n",
    "print(p.text)"
   ]
  },
  {
   "cell_type": "markdown",
   "metadata": {},
   "source": [
    "# Automatic adds in Telegram\n",
    "Adds like image, audio, csv"
   ]
  },
  {
   "cell_type": "markdown",
   "metadata": {},
   "source": [
    "#  Sending Messages\n",
    "Send Message"
   ]
  },
  {
   "cell_type": "code",
   "execution_count": 3,
   "metadata": {},
   "outputs": [
    {
     "name": "stdout",
     "output_type": "stream",
     "text": [
      "{\"ok\":true,\"result\":{\"message_id\":13,\"from\":{\"id\":5665382544,\"is_bot\":true,\"first_name\":\"Foram bot\",\"username\":\"shubham_panwala_bot\"},\"chat\":{\"id\":-1001731409307,\"title\":\"Ooo\",\"type\":\"supergroup\"},\"date\":1661589907,\"text\":\"Hi I am Shubham\"}}\n"
     ]
    }
   ],
   "source": [
    "import requests \n",
    "\n",
    "base_url = \"https://api.telegram.org/bot5665382544:AAGalE88IjUtJRD4b7UxuPbhOeBZTpzKvFg/sendMessage\"\n",
    "\n",
    "\n",
    "parameters = {\n",
    "    \"chat_id\" :\"-752903550\",\n",
    "    \"chat_id\" :\"-1001731409307\",\n",
    "    \n",
    "    \"text\" : \"Hi I am Shubham\"\n",
    "}\n",
    "\n",
    "p = requests.get(base_url, data = parameters)\n",
    "print(p.text)\n"
   ]
  },
  {
   "cell_type": "markdown",
   "metadata": {},
   "source": [
    "# multiple msg after 20 second"
   ]
  },
  {
   "cell_type": "code",
   "execution_count": 4,
   "metadata": {},
   "outputs": [
    {
     "name": "stdout",
     "output_type": "stream",
     "text": [
      "{\"ok\":true,\"result\":{\"message_id\":14,\"from\":{\"id\":5665382544,\"is_bot\":true,\"first_name\":\"Foram bot\",\"username\":\"shubham_panwala_bot\"},\"chat\":{\"id\":-1001731409307,\"title\":\"Ooo\",\"type\":\"supergroup\"},\"date\":1661589940,\"text\":\"How many telemarketers does it take to change a light bulb? 7\"}}\n",
      "{\"ok\":true,\"result\":{\"message_id\":15,\"from\":{\"id\":5665382544,\"is_bot\":true,\"first_name\":\"Foram bot\",\"username\":\"shubham_panwala_bot\"},\"chat\":{\"id\":-1001731409307,\"title\":\"Ooo\",\"type\":\"supergroup\"},\"date\":1661589941,\"text\":\"We used to play spin the bottle when I was a kid. 8\"}}\n",
      "{\"ok\":true,\"result\":{\"message_id\":16,\"from\":{\"id\":5665382544,\"is_bot\":true,\"first_name\":\"Foram bot\",\"username\":\"shubham_panwala_bot\"},\"chat\":{\"id\":-1001731409307,\"title\":\"Ooo\",\"type\":\"supergroup\"},\"date\":1661589942,\"text\":\"A bird in the hand is bad table manners. 10 A small boy, reciting the Lord\\u2019s Prayer. 3\"}}\n",
      "{\"ok\":true,\"result\":{\"message_id\":17,\"from\":{\"id\":5665382544,\"is_bot\":true,\"first_name\":\"Foram bot\",\"username\":\"shubham_panwala_bot\"},\"chat\":{\"id\":-1001731409307,\"title\":\"Ooo\",\"type\":\"supergroup\"},\"date\":1661589944,\"text\":\"Two hunters are out in the woods when one of them collapses. 4\"}}\n",
      "{\"ok\":true,\"result\":{\"message_id\":18,\"from\":{\"id\":5665382544,\"is_bot\":true,\"first_name\":\"Foram bot\",\"username\":\"shubham_panwala_bot\"},\"chat\":{\"id\":-1001731409307,\"title\":\"Ooo\",\"type\":\"supergroup\"},\"date\":1661589945,\"text\":\"A teenager brings her new boyfriend home to meet her parents. 1\"}}\n",
      "{\"ok\":true,\"result\":{\"message_id\":19,\"from\":{\"id\":5665382544,\"is_bot\":true,\"first_name\":\"Foram bot\",\"username\":\"shubham_panwala_bot\"},\"chat\":{\"id\":-1001731409307,\"title\":\"Ooo\",\"type\":\"supergroup\"},\"date\":1661589951,\"text\":\"Did you hear they arrested the devil? 6\"}}\n",
      "{\"ok\":true,\"result\":{\"message_id\":20,\"from\":{\"id\":5665382544,\"is_bot\":true,\"first_name\":\"Foram bot\",\"username\":\"shubham_panwala_bot\"},\"chat\":{\"id\":-1001731409307,\"title\":\"Ooo\",\"type\":\"supergroup\"},\"date\":1661589957,\"text\":\"In the public library, a man with his new library card questioned the pretty librarian. 2\"}}\n",
      "{\"ok\":true,\"result\":{\"message_id\":21,\"from\":{\"id\":5665382544,\"is_bot\":true,\"first_name\":\"Foram bot\",\"username\":\"shubham_panwala_bot\"},\"chat\":{\"id\":-1001731409307,\"title\":\"Ooo\",\"type\":\"supergroup\"},\"date\":1661589958,\"text\":\"A man went into a seafood restaurant and asked for a lobster tail. 5\"}}\n",
      "{\"ok\":true,\"result\":{\"message_id\":22,\"from\":{\"id\":5665382544,\"is_bot\":true,\"first_name\":\"Foram bot\",\"username\":\"shubham_panwala_bot\"},\"chat\":{\"id\":-1001731409307,\"title\":\"Ooo\",\"type\":\"supergroup\"},\"date\":1661589959,\"text\":\"Muttered over a martini: I hate golf. 9\"}}\n"
     ]
    }
   ],
   "source": [
    "import requests \n",
    "\n",
    "base_url = \"https://api.telegram.org/bot5665382544:AAGalE88IjUtJRD4b7UxuPbhOeBZTpzKvFg/sendMessage\"\n",
    "\n",
    "joks = {\n",
    "\" A teenager brings her new boyfriend home to meet her parents. 1\" ,\n",
    "\" In the public library, a man with his new library card questioned the pretty librarian. 2\",\n",
    "\" Two hunters are out in the woods when one of them collapses. 4\" ,\n",
    "\" A man went into a seafood restaurant and asked for a lobster tail. 5\" ,\n",
    "\" Did you hear they arrested the devil? 6\" ,\n",
    "\" How many telemarketers does it take to change a light bulb? 7\" ,\n",
    "\" We used to play spin the bottle when I was a kid. 8\" ,\n",
    "\" Muttered over a martini: I hate golf. 9\" ,\n",
    "\" A bird in the hand is bad table manners. 10\" \n",
    "\" A small boy, reciting the Lord’s Prayer. 3\"}\n",
    "\n",
    "for funny in joks:\n",
    "    parameters = {\n",
    "        \"chat_id\" : \"-1001731409307\",\n",
    "        \"text\" : funny\n",
    "    }\n",
    "    p = requests.get(base_url, data = parameters)\n",
    "    print(p.text)\n"
   ]
  },
  {
   "cell_type": "code",
   "execution_count": 20,
   "metadata": {},
   "outputs": [
    {
     "name": "stdout",
     "output_type": "stream",
     "text": [
      "{\"ok\":false,\"error_code\":403,\"description\":\"Forbidden: bot was kicked from the group chat\"}\n",
      "{\"ok\":true,\"result\":{\"message_id\":126,\"from\":{\"id\":5665382544,\"is_bot\":true,\"first_name\":\"Foram bot\",\"username\":\"shubham_panwala_bot\"},\"chat\":{\"id\":-674797008,\"title\":\"Happy family\",\"type\":\"group\",\"all_members_are_administrators\":true},\"date\":1661522178,\"text\":\"A bird in the hand is bad table manners. 10 A small boy, reciting the Lord\\u2019s Prayer. 3\"}}\n",
      "{\"ok\":true,\"result\":{\"message_id\":127,\"from\":{\"id\":5665382544,\"is_bot\":true,\"first_name\":\"Foram bot\",\"username\":\"shubham_panwala_bot\"},\"chat\":{\"id\":-674797008,\"title\":\"Happy family\",\"type\":\"group\",\"all_members_are_administrators\":true},\"date\":1661522220,\"text\":\"A man went into a seafood restaurant and asked for a lobster tail. 5\"}}\n",
      "{\"ok\":true,\"result\":{\"message_id\":128,\"from\":{\"id\":5665382544,\"is_bot\":true,\"first_name\":\"Foram bot\",\"username\":\"shubham_panwala_bot\"},\"chat\":{\"id\":-674797008,\"title\":\"Happy family\",\"type\":\"group\",\"all_members_are_administrators\":true},\"date\":1661522262,\"text\":\"Two hunters are out in the woods when one of them collapses. 4\"}}\n",
      "{\"ok\":true,\"result\":{\"message_id\":129,\"from\":{\"id\":5665382544,\"is_bot\":true,\"first_name\":\"Foram bot\",\"username\":\"shubham_panwala_bot\"},\"chat\":{\"id\":-674797008,\"title\":\"Happy family\",\"type\":\"group\",\"all_members_are_administrators\":true},\"date\":1661522305,\"text\":\"We used to play spin the bottle when I was a kid. 8\"}}\n",
      "{\"ok\":true,\"result\":{\"message_id\":130,\"from\":{\"id\":5665382544,\"is_bot\":true,\"first_name\":\"Foram bot\",\"username\":\"shubham_panwala_bot\"},\"chat\":{\"id\":-674797008,\"title\":\"Happy family\",\"type\":\"group\",\"all_members_are_administrators\":true},\"date\":1661522347,\"text\":\"A teenager brings her new boyfriend home to meet her parents. 1\"}}\n",
      "{\"ok\":true,\"result\":{\"message_id\":131,\"from\":{\"id\":5665382544,\"is_bot\":true,\"first_name\":\"Foram bot\",\"username\":\"shubham_panwala_bot\"},\"chat\":{\"id\":-674797008,\"title\":\"Happy family\",\"type\":\"group\",\"all_members_are_administrators\":true},\"date\":1661522389,\"text\":\"Muttered over a martini: I hate golf. 9\"}}\n",
      "{\"ok\":true,\"result\":{\"message_id\":132,\"from\":{\"id\":5665382544,\"is_bot\":true,\"first_name\":\"Foram bot\",\"username\":\"shubham_panwala_bot\"},\"chat\":{\"id\":-674797008,\"title\":\"Happy family\",\"type\":\"group\",\"all_members_are_administrators\":true},\"date\":1661522431,\"text\":\"How many telemarketers does it take to change a light bulb? 7\"}}\n",
      "{\"ok\":true,\"result\":{\"message_id\":133,\"from\":{\"id\":5665382544,\"is_bot\":true,\"first_name\":\"Foram bot\",\"username\":\"shubham_panwala_bot\"},\"chat\":{\"id\":-674797008,\"title\":\"Happy family\",\"type\":\"group\",\"all_members_are_administrators\":true},\"date\":1661522473,\"text\":\"Did you hear they arrested the devil? 6\"}}\n"
     ]
    }
   ],
   "source": [
    "import requests\n",
    "import time\n",
    "\n",
    "base_url = \"https://api.telegram.org/bot5665382544:AAGalE88IjUtJRD4b7UxuPbhOeBZTpzKvFg/sendMessage\"\n",
    "\n",
    "joks = {\n",
    "\" A teenager brings her new boyfriend home to meet her parents. 1\" ,\n",
    "\" In the public library, a man with his new library card questioned the pretty librarian. 2\",\n",
    "\" Two hunters are out in the woods when one of them collapses. 4\" ,\n",
    "\" A man went into a seafood restaurant and asked for a lobster tail. 5\" ,\n",
    "\" Did you hear they arrested the devil? 6\" ,\n",
    "\" How many telemarketers does it take to change a light bulb? 7\" ,\n",
    "\" We used to play spin the bottle when I was a kid. 8\" ,\n",
    "\" Muttered over a martini: I hate golf. 9\" ,\n",
    "\" A bird in the hand is bad table manners. 10\" \n",
    "\" A small boy, reciting the Lord’s Prayer. 3\"}\n",
    " \n",
    "for funny in joks:\n",
    "    time.sleep (20)\n",
    "    parameters = {\n",
    "        \"chat_id\" : \"-674797008\",\n",
    "        \"text\" : funny\n",
    "    } \n",
    "    p = requests.get(base_url, data = parameters)\n",
    "    print(p.text)"
   ]
  },
  {
   "cell_type": "markdown",
   "metadata": {},
   "source": [
    "# Adds Photos\n",
    "Unsplash is used for free photos"
   ]
  },
  {
   "cell_type": "code",
   "execution_count": 21,
   "metadata": {},
   "outputs": [
    {
     "name": "stdout",
     "output_type": "stream",
     "text": [
      "{\"ok\":true,\"result\":{\"message_id\":134,\"from\":{\"id\":5665382544,\"is_bot\":true,\"first_name\":\"Foram bot\",\"username\":\"shubham_panwala_bot\"},\"chat\":{\"id\":-674797008,\"title\":\"Happy family\",\"type\":\"group\",\"all_members_are_administrators\":true},\"date\":1661522495,\"photo\":[{\"file_id\":\"AgACAgQAAxkDAAOGYwjSP8ctYKyIN_8JNZDLDz4WHBYAAgevMRv78B1QKumJjWFHbw0BAAMCAANzAAMpBA\",\"file_unique_id\":\"AQADB68xG_vwHVB4\",\"file_size\":1135,\"width\":90,\"height\":47},{\"file_id\":\"AgACAgQAAxkDAAOGYwjSP8ctYKyIN_8JNZDLDz4WHBYAAgevMRv78B1QKumJjWFHbw0BAAMCAANtAAMpBA\",\"file_unique_id\":\"AQADB68xG_vwHVBy\",\"file_size\":16711,\"width\":320,\"height\":168},{\"file_id\":\"AgACAgQAAxkDAAOGYwjSP8ctYKyIN_8JNZDLDz4WHBYAAgevMRv78B1QKumJjWFHbw0BAAMCAAN4AAMpBA\",\"file_unique_id\":\"AQADB68xG_vwHVB9\",\"file_size\":92139,\"width\":800,\"height\":420},{\"file_id\":\"AgACAgQAAxkDAAOGYwjSP8ctYKyIN_8JNZDLDz4WHBYAAgevMRv78B1QKumJjWFHbw0BAAMCAAN5AAMpBA\",\"file_unique_id\":\"AQADB68xG_vwHVB-\",\"file_size\":151549,\"width\":1200,\"height\":630}],\"caption\":\"here is hillstation photo for you\"}}\n"
     ]
    }
   ],
   "source": [
    "import requests \n",
    "\n",
    "base_url = \"https://api.telegram.org/bot5665382544:AAGalE88IjUtJRD4b7UxuPbhOeBZTpzKvFg/sendPhoto\"\n",
    "\n",
    "\n",
    "parameters = {\n",
    "    \"chat_id\" : \"-674797008\",\n",
    "    \"photo\" : \"https://unsplash.com/photos/RA55_TH8srQ\",\n",
    "    \"caption\" : \"here is hillstation photo for you\"\n",
    "}\n",
    "\n",
    "p = requests.get(base_url, data = parameters)\n",
    "print(p.text)\n"
   ]
  },
  {
   "cell_type": "markdown",
   "metadata": {},
   "source": [
    "# Multiple image"
   ]
  },
  {
   "cell_type": "code",
   "execution_count": 6,
   "metadata": {},
   "outputs": [
    {
     "name": "stdout",
     "output_type": "stream",
     "text": [
      "{\"ok\":true,\"result\":{\"message_id\":174,\"from\":{\"id\":5665382544,\"is_bot\":true,\"first_name\":\"Foram bot\",\"username\":\"shubham_panwala_bot\"},\"chat\":{\"id\":-752903550,\"title\":\"Bilated\",\"type\":\"group\",\"all_members_are_administrators\":true},\"date\":1661590088,\"photo\":[{\"file_id\":\"AgACAgQAAxkDAAOuYwnaSMD_3nHPdIwwCDZES2SEQJIAAgevMRv78B1QKumJjWFHbw0BAAMCAANzAAMpBA\",\"file_unique_id\":\"AQADB68xG_vwHVB4\",\"file_size\":1135,\"width\":90,\"height\":47},{\"file_id\":\"AgACAgQAAxkDAAOuYwnaSMD_3nHPdIwwCDZES2SEQJIAAgevMRv78B1QKumJjWFHbw0BAAMCAANtAAMpBA\",\"file_unique_id\":\"AQADB68xG_vwHVBy\",\"file_size\":16711,\"width\":320,\"height\":168},{\"file_id\":\"AgACAgQAAxkDAAOuYwnaSMD_3nHPdIwwCDZES2SEQJIAAgevMRv78B1QKumJjWFHbw0BAAMCAAN4AAMpBA\",\"file_unique_id\":\"AQADB68xG_vwHVB9\",\"file_size\":92139,\"width\":800,\"height\":420},{\"file_id\":\"AgACAgQAAxkDAAOuYwnaSMD_3nHPdIwwCDZES2SEQJIAAgevMRv78B1QKumJjWFHbw0BAAMCAAN5AAMpBA\",\"file_unique_id\":\"AQADB68xG_vwHVB-\",\"file_size\":151549,\"width\":1200,\"height\":630}],\"caption\":\"here is hillstation photo for you\"}}\n"
     ]
    }
   ],
   "source": [
    "import requests \n",
    "\n",
    "base_url = \"https://api.telegram.org/bot5665382544:AAGalE88IjUtJRD4b7UxuPbhOeBZTpzKvFg/sendPhoto\"\n",
    "\n",
    "photos_url = [\n",
    "    \"https://unsplash.com/photos/6kBQEeyMdeg\",\n",
    "    \"https://unsplash.com/photos/it-_C9yfRIM\",\n",
    "    \"https://unsplash.com/photos/EOaYskDih0U\",\n",
    "    \"https://unsplash.com/photos/_1KKLsOhTlk\"\n",
    "]\n",
    "parameters = {\n",
    "    \"chat_id\" : \"-752903550\",\n",
    "    \"photo\" : \"https://unsplash.com/photos/RA55_TH8srQ\",\n",
    "    \"caption\" : \"here is hillstation photo for you\"\n",
    "}\n",
    "\n",
    "p = requests.get(base_url, data = parameters)\n",
    "print(p.text)\n"
   ]
  },
  {
   "cell_type": "code",
   "execution_count": 23,
   "metadata": {},
   "outputs": [
    {
     "name": "stdout",
     "output_type": "stream",
     "text": [
      "{\"ok\":true,\"result\":{\"message_id\":136,\"from\":{\"id\":5665382544,\"is_bot\":true,\"first_name\":\"Foram bot\",\"username\":\"shubham_panwala_bot\"},\"chat\":{\"id\":-674797008,\"title\":\"Happy family\",\"type\":\"group\",\"all_members_are_administrators\":true},\"date\":1661522545,\"photo\":[{\"file_id\":\"AgACAgQAAxkDAAOIYwjScaWpfFS6pql2HnhQ0BvsOqUAAmuuMRs1rB1Ql9P3NIZcqV0BAAMCAANzAAMpBA\",\"file_unique_id\":\"AQADa64xGzWsHVB4\",\"file_size\":882,\"width\":90,\"height\":47},{\"file_id\":\"AgACAgQAAxkDAAOIYwjScaWpfFS6pql2HnhQ0BvsOqUAAmuuMRs1rB1Ql9P3NIZcqV0BAAMCAANtAAMpBA\",\"file_unique_id\":\"AQADa64xGzWsHVBy\",\"file_size\":16060,\"width\":320,\"height\":168},{\"file_id\":\"AgACAgQAAxkDAAOIYwjScaWpfFS6pql2HnhQ0BvsOqUAAmuuMRs1rB1Ql9P3NIZcqV0BAAMCAAN4AAMpBA\",\"file_unique_id\":\"AQADa64xGzWsHVB9\",\"file_size\":90839,\"width\":800,\"height\":420},{\"file_id\":\"AgACAgQAAxkDAAOIYwjScaWpfFS6pql2HnhQ0BvsOqUAAmuuMRs1rB1Ql9P3NIZcqV0BAAMCAAN5AAMpBA\",\"file_unique_id\":\"AQADa64xGzWsHVB-\",\"file_size\":153986,\"width\":1200,\"height\":630}]}}\n",
      "{\"ok\":true,\"result\":{\"message_id\":137,\"from\":{\"id\":5665382544,\"is_bot\":true,\"first_name\":\"Foram bot\",\"username\":\"shubham_panwala_bot\"},\"chat\":{\"id\":-674797008,\"title\":\"Happy family\",\"type\":\"group\",\"all_members_are_administrators\":true},\"date\":1661522574,\"photo\":[{\"file_id\":\"AgACAgQAAxkDAAOJYwjSjXps-09GQ4pTdam9T8u7pbgAAviuMRsi6BRQw9ZAuWVsRyABAAMCAANzAAMpBA\",\"file_unique_id\":\"AQAD-K4xGyLoFFB4\",\"file_size\":1038,\"width\":90,\"height\":47},{\"file_id\":\"AgACAgQAAxkDAAOJYwjSjXps-09GQ4pTdam9T8u7pbgAAviuMRsi6BRQw9ZAuWVsRyABAAMCAANtAAMpBA\",\"file_unique_id\":\"AQAD-K4xGyLoFFBy\",\"file_size\":12186,\"width\":320,\"height\":168},{\"file_id\":\"AgACAgQAAxkDAAOJYwjSjXps-09GQ4pTdam9T8u7pbgAAviuMRsi6BRQw9ZAuWVsRyABAAMCAAN4AAMpBA\",\"file_unique_id\":\"AQAD-K4xGyLoFFB9\",\"file_size\":54455,\"width\":800,\"height\":420},{\"file_id\":\"AgACAgQAAxkDAAOJYwjSjXps-09GQ4pTdam9T8u7pbgAAviuMRsi6BRQw9ZAuWVsRyABAAMCAAN5AAMpBA\",\"file_unique_id\":\"AQAD-K4xGyLoFFB-\",\"file_size\":85374,\"width\":1200,\"height\":630}]}}\n",
      "{\"ok\":true,\"result\":{\"message_id\":138,\"from\":{\"id\":5665382544,\"is_bot\":true,\"first_name\":\"Foram bot\",\"username\":\"shubham_panwala_bot\"},\"chat\":{\"id\":-674797008,\"title\":\"Happy family\",\"type\":\"group\",\"all_members_are_administrators\":true},\"date\":1661522605,\"photo\":[{\"file_id\":\"AgACAgQAAxkDAAOKYwjSrc5X9cEz2oAG7hztmUb_jQAD-a4xG8qAFFARbcHV3fo0SgEAAwIAA3MAAykE\",\"file_unique_id\":\"AQAD-a4xG8qAFFB4\",\"file_size\":1115,\"width\":90,\"height\":47},{\"file_id\":\"AgACAgQAAxkDAAOKYwjSrc5X9cEz2oAG7hztmUb_jQAD-a4xG8qAFFARbcHV3fo0SgEAAwIAA20AAykE\",\"file_unique_id\":\"AQAD-a4xG8qAFFBy\",\"file_size\":23864,\"width\":320,\"height\":168},{\"file_id\":\"AgACAgQAAxkDAAOKYwjSrc5X9cEz2oAG7hztmUb_jQAD-a4xG8qAFFARbcHV3fo0SgEAAwIAA3gAAykE\",\"file_unique_id\":\"AQAD-a4xG8qAFFB9\",\"file_size\":132521,\"width\":800,\"height\":420},{\"file_id\":\"AgACAgQAAxkDAAOKYwjSrc5X9cEz2oAG7hztmUb_jQAD-a4xG8qAFFARbcHV3fo0SgEAAwIAA3kAAykE\",\"file_unique_id\":\"AQAD-a4xG8qAFFB-\",\"file_size\":216559,\"width\":1200,\"height\":630}]}}\n",
      "{\"ok\":true,\"result\":{\"message_id\":139,\"from\":{\"id\":5665382544,\"is_bot\":true,\"first_name\":\"Foram bot\",\"username\":\"shubham_panwala_bot\"},\"chat\":{\"id\":-674797008,\"title\":\"Happy family\",\"type\":\"group\",\"all_members_are_administrators\":true},\"date\":1661522632,\"photo\":[{\"file_id\":\"AgACAgQAAxkDAAOLYwjSyOA2oI4T5IvcODwLuaZqe9EAAimuMRuXMhxQOnTJOCYmfxMBAAMCAANzAAMpBA\",\"file_unique_id\":\"AQADKa4xG5cyHFB4\",\"file_size\":1505,\"width\":90,\"height\":47},{\"file_id\":\"AgACAgQAAxkDAAOLYwjSyOA2oI4T5IvcODwLuaZqe9EAAimuMRuXMhxQOnTJOCYmfxMBAAMCAANtAAMpBA\",\"file_unique_id\":\"AQADKa4xG5cyHFBy\",\"file_size\":29580,\"width\":320,\"height\":168},{\"file_id\":\"AgACAgQAAxkDAAOLYwjSyOA2oI4T5IvcODwLuaZqe9EAAimuMRuXMhxQOnTJOCYmfxMBAAMCAAN4AAMpBA\",\"file_unique_id\":\"AQADKa4xG5cyHFB9\",\"file_size\":166824,\"width\":800,\"height\":420},{\"file_id\":\"AgACAgQAAxkDAAOLYwjSyOA2oI4T5IvcODwLuaZqe9EAAimuMRuXMhxQOnTJOCYmfxMBAAMCAAN5AAMpBA\",\"file_unique_id\":\"AQADKa4xG5cyHFB-\",\"file_size\":277038,\"width\":1200,\"height\":630}]}}\n",
      "{\"ok\":true,\"result\":{\"message_id\":140,\"from\":{\"id\":5665382544,\"is_bot\":true,\"first_name\":\"Foram bot\",\"username\":\"shubham_panwala_bot\"},\"chat\":{\"id\":-674797008,\"title\":\"Happy family\",\"type\":\"group\",\"all_members_are_administrators\":true},\"date\":1661522660,\"photo\":[{\"file_id\":\"AgACAgQAAxkDAAOMYwjS5KKT3KRJfVYkgRgrxqOnkQ4AAsKuMRtK4y1Q17oUtcqgntYBAAMCAANzAAMpBA\",\"file_unique_id\":\"AQADwq4xG0rjLVB4\",\"file_size\":1101,\"width\":90,\"height\":47},{\"file_id\":\"AgACAgQAAxkDAAOMYwjS5KKT3KRJfVYkgRgrxqOnkQ4AAsKuMRtK4y1Q17oUtcqgntYBAAMCAANtAAMpBA\",\"file_unique_id\":\"AQADwq4xG0rjLVBy\",\"file_size\":14516,\"width\":320,\"height\":168},{\"file_id\":\"AgACAgQAAxkDAAOMYwjS5KKT3KRJfVYkgRgrxqOnkQ4AAsKuMRtK4y1Q17oUtcqgntYBAAMCAAN4AAMpBA\",\"file_unique_id\":\"AQADwq4xG0rjLVB9\",\"file_size\":60027,\"width\":800,\"height\":420},{\"file_id\":\"AgACAgQAAxkDAAOMYwjS5KKT3KRJfVYkgRgrxqOnkQ4AAsKuMRtK4y1Q17oUtcqgntYBAAMCAAN5AAMpBA\",\"file_unique_id\":\"AQADwq4xG0rjLVB-\",\"file_size\":91573,\"width\":1200,\"height\":630}]}}\n",
      "{\"ok\":true,\"result\":{\"message_id\":141,\"from\":{\"id\":5665382544,\"is_bot\":true,\"first_name\":\"Foram bot\",\"username\":\"shubham_panwala_bot\"},\"chat\":{\"id\":-674797008,\"title\":\"Happy family\",\"type\":\"group\",\"all_members_are_administrators\":true},\"date\":1661522691,\"photo\":[{\"file_id\":\"AgACAgQAAxkDAAONYwjTA0Vy4vdKJzM9AAEhPE9wh1rAAALYrjEbx-gtUA4GIzJNJlWyAQADAgADcwADKQQ\",\"file_unique_id\":\"AQAD2K4xG8foLVB4\",\"file_size\":1270,\"width\":90,\"height\":47},{\"file_id\":\"AgACAgQAAxkDAAONYwjTA0Vy4vdKJzM9AAEhPE9wh1rAAALYrjEbx-gtUA4GIzJNJlWyAQADAgADbQADKQQ\",\"file_unique_id\":\"AQAD2K4xG8foLVBy\",\"file_size\":20283,\"width\":320,\"height\":168},{\"file_id\":\"AgACAgQAAxkDAAONYwjTA0Vy4vdKJzM9AAEhPE9wh1rAAALYrjEbx-gtUA4GIzJNJlWyAQADAgADeAADKQQ\",\"file_unique_id\":\"AQAD2K4xG8foLVB9\",\"file_size\":86698,\"width\":800,\"height\":420},{\"file_id\":\"AgACAgQAAxkDAAONYwjTA0Vy4vdKJzM9AAEhPE9wh1rAAALYrjEbx-gtUA4GIzJNJlWyAQADAgADeQADKQQ\",\"file_unique_id\":\"AQAD2K4xG8foLVB-\",\"file_size\":130991,\"width\":1200,\"height\":630}]}}\n",
      "{\"ok\":true,\"result\":{\"message_id\":142,\"from\":{\"id\":5665382544,\"is_bot\":true,\"first_name\":\"Foram bot\",\"username\":\"shubham_panwala_bot\"},\"chat\":{\"id\":-674797008,\"title\":\"Happy family\",\"type\":\"group\",\"all_members_are_administrators\":true},\"date\":1661522722,\"photo\":[{\"file_id\":\"AgACAgQAAxkDAAOOYwjTIjZP_EXSsAKC-D8h8qMVXFkAAtquMRvThS1QcgKUZq__IT8BAAMCAANzAAMpBA\",\"file_unique_id\":\"AQAD2q4xG9OFLVB4\",\"file_size\":1002,\"width\":90,\"height\":47},{\"file_id\":\"AgACAgQAAxkDAAOOYwjTIjZP_EXSsAKC-D8h8qMVXFkAAtquMRvThS1QcgKUZq__IT8BAAMCAANtAAMpBA\",\"file_unique_id\":\"AQAD2q4xG9OFLVBy\",\"file_size\":10614,\"width\":320,\"height\":168},{\"file_id\":\"AgACAgQAAxkDAAOOYwjTIjZP_EXSsAKC-D8h8qMVXFkAAtquMRvThS1QcgKUZq__IT8BAAMCAAN4AAMpBA\",\"file_unique_id\":\"AQAD2q4xG9OFLVB9\",\"file_size\":38673,\"width\":800,\"height\":420},{\"file_id\":\"AgACAgQAAxkDAAOOYwjTIjZP_EXSsAKC-D8h8qMVXFkAAtquMRvThS1QcgKUZq__IT8BAAMCAAN5AAMpBA\",\"file_unique_id\":\"AQAD2q4xG9OFLVB-\",\"file_size\":55843,\"width\":1200,\"height\":630}]}}\n",
      "{\"ok\":true,\"result\":{\"message_id\":143,\"from\":{\"id\":5665382544,\"is_bot\":true,\"first_name\":\"Foram bot\",\"username\":\"shubham_panwala_bot\"},\"chat\":{\"id\":-674797008,\"title\":\"Happy family\",\"type\":\"group\",\"all_members_are_administrators\":true},\"date\":1661522753,\"photo\":[{\"file_id\":\"AgACAgQAAxkDAAOPYwjTQXgNJYNSYIkldEqkDEsYNjQAAt6uMRuYbSxQH_mXG3aLNvEBAAMCAANzAAMpBA\",\"file_unique_id\":\"AQAD3q4xG5htLFB4\",\"file_size\":1531,\"width\":90,\"height\":47},{\"file_id\":\"AgACAgQAAxkDAAOPYwjTQXgNJYNSYIkldEqkDEsYNjQAAt6uMRuYbSxQH_mXG3aLNvEBAAMCAANtAAMpBA\",\"file_unique_id\":\"AQAD3q4xG5htLFBy\",\"file_size\":22883,\"width\":320,\"height\":168},{\"file_id\":\"AgACAgQAAxkDAAOPYwjTQXgNJYNSYIkldEqkDEsYNjQAAt6uMRuYbSxQH_mXG3aLNvEBAAMCAAN4AAMpBA\",\"file_unique_id\":\"AQAD3q4xG5htLFB9\",\"file_size\":99286,\"width\":800,\"height\":420},{\"file_id\":\"AgACAgQAAxkDAAOPYwjTQXgNJYNSYIkldEqkDEsYNjQAAt6uMRuYbSxQH_mXG3aLNvEBAAMCAAN5AAMpBA\",\"file_unique_id\":\"AQAD3q4xG5htLFB-\",\"file_size\":149610,\"width\":1200,\"height\":630}]}}\n",
      "{\"ok\":true,\"result\":{\"message_id\":144,\"from\":{\"id\":5665382544,\"is_bot\":true,\"first_name\":\"Foram bot\",\"username\":\"shubham_panwala_bot\"},\"chat\":{\"id\":-674797008,\"title\":\"Happy family\",\"type\":\"group\",\"all_members_are_administrators\":true},\"date\":1661522779,\"photo\":[{\"file_id\":\"AgACAgQAAxkDAAOQYwjTW7wGELjeZQffEN5_WwFbApwAAq6uMRtDxC1Q6JUSHzgIcGwBAAMCAANzAAMpBA\",\"file_unique_id\":\"AQADrq4xG0PELVB4\",\"file_size\":1301,\"width\":90,\"height\":47},{\"file_id\":\"AgACAgQAAxkDAAOQYwjTW7wGELjeZQffEN5_WwFbApwAAq6uMRtDxC1Q6JUSHzgIcGwBAAMCAANtAAMpBA\",\"file_unique_id\":\"AQADrq4xG0PELVBy\",\"file_size\":18442,\"width\":320,\"height\":168},{\"file_id\":\"AgACAgQAAxkDAAOQYwjTW7wGELjeZQffEN5_WwFbApwAAq6uMRtDxC1Q6JUSHzgIcGwBAAMCAAN4AAMpBA\",\"file_unique_id\":\"AQADrq4xG0PELVB9\",\"file_size\":71547,\"width\":800,\"height\":420},{\"file_id\":\"AgACAgQAAxkDAAOQYwjTW7wGELjeZQffEN5_WwFbApwAAq6uMRtDxC1Q6JUSHzgIcGwBAAMCAAN5AAMpBA\",\"file_unique_id\":\"AQADrq4xG0PELVB-\",\"file_size\":101894,\"width\":1200,\"height\":630}]}}\n"
     ]
    },
    {
     "name": "stdout",
     "output_type": "stream",
     "text": [
      "{\"ok\":true,\"result\":{\"message_id\":145,\"from\":{\"id\":5665382544,\"is_bot\":true,\"first_name\":\"Foram bot\",\"username\":\"shubham_panwala_bot\"},\"chat\":{\"id\":-674797008,\"title\":\"Happy family\",\"type\":\"group\",\"all_members_are_administrators\":true},\"date\":1661522809,\"photo\":[{\"file_id\":\"AgACAgQAAxkDAAORYwjTef6BLEpnUGor8a4AAcbyLkGTAALarTEbp281UEkbIh3Pvl_hAQADAgADcwADKQQ\",\"file_unique_id\":\"AQAD2q0xG6dvNVB4\",\"file_size\":1002,\"width\":90,\"height\":47},{\"file_id\":\"AgACAgQAAxkDAAORYwjTef6BLEpnUGor8a4AAcbyLkGTAALarTEbp281UEkbIh3Pvl_hAQADAgADbQADKQQ\",\"file_unique_id\":\"AQAD2q0xG6dvNVBy\",\"file_size\":14800,\"width\":320,\"height\":168},{\"file_id\":\"AgACAgQAAxkDAAORYwjTef6BLEpnUGor8a4AAcbyLkGTAALarTEbp281UEkbIh3Pvl_hAQADAgADeAADKQQ\",\"file_unique_id\":\"AQAD2q0xG6dvNVB9\",\"file_size\":78690,\"width\":800,\"height\":420},{\"file_id\":\"AgACAgQAAxkDAAORYwjTef6BLEpnUGor8a4AAcbyLkGTAALarTEbp281UEkbIh3Pvl_hAQADAgADeQADKQQ\",\"file_unique_id\":\"AQAD2q0xG6dvNVB-\",\"file_size\":131552,\"width\":1200,\"height\":630}]}}\n",
      "{\"ok\":true,\"result\":{\"message_id\":146,\"from\":{\"id\":5665382544,\"is_bot\":true,\"first_name\":\"Foram bot\",\"username\":\"shubham_panwala_bot\"},\"chat\":{\"id\":-674797008,\"title\":\"Happy family\",\"type\":\"group\",\"all_members_are_administrators\":true},\"date\":1661522836,\"photo\":[{\"file_id\":\"AgACAgQAAxkDAAOSYwjTlFOjzdYkt0liDk_OAbZNAAHiAAKUrjEbLO4sUNKXdNE7of7EAQADAgADcwADKQQ\",\"file_unique_id\":\"AQADlK4xGyzuLFB4\",\"file_size\":1143,\"width\":90,\"height\":47},{\"file_id\":\"AgACAgQAAxkDAAOSYwjTlFOjzdYkt0liDk_OAbZNAAHiAAKUrjEbLO4sUNKXdNE7of7EAQADAgADbQADKQQ\",\"file_unique_id\":\"AQADlK4xGyzuLFBy\",\"file_size\":19531,\"width\":320,\"height\":168},{\"file_id\":\"AgACAgQAAxkDAAOSYwjTlFOjzdYkt0liDk_OAbZNAAHiAAKUrjEbLO4sUNKXdNE7of7EAQADAgADeAADKQQ\",\"file_unique_id\":\"AQADlK4xGyzuLFB9\",\"file_size\":97848,\"width\":800,\"height\":420},{\"file_id\":\"AgACAgQAAxkDAAOSYwjTlFOjzdYkt0liDk_OAbZNAAHiAAKUrjEbLO4sUNKXdNE7of7EAQADAgADeQADKQQ\",\"file_unique_id\":\"AQADlK4xGyzuLFB-\",\"file_size\":153644,\"width\":1200,\"height\":630}]}}\n"
     ]
    }
   ],
   "source": [
    "import requests \n",
    "import random\n",
    "import time\n",
    "\n",
    "base_url = \"https://api.telegram.org/bot5665382544:AAGalE88IjUtJRD4b7UxuPbhOeBZTpzKvFg/sendPhoto\"\n",
    "\n",
    "photos_url = [\n",
    "    \"https://unsplash.com/photos/6kBQEeyMdeg\",\n",
    "    \"https://unsplash.com/photos/it-_C9yfRIM\",\n",
    "    \"https://unsplash.com/photos/EOaYskDih0U\",\n",
    "    \"https://unsplash.com/photos/_1KKLsOhTlk\",\n",
    "    \"https://unsplash.com/photos/987QoiLoq6Q\",\n",
    "    \"https://unsplash.com/photos/CrT0nYf9_1w\",\n",
    "    \"https://unsplash.com/photos/zND9T4dokkE\",\n",
    "    \"https://unsplash.com/photos/Rm5hTyEMgl4\",\n",
    "    \"https://unsplash.com/photos/zy_I2F4dmPY\",\n",
    "    \"https://unsplash.com/photos/w3aKkF9WfVw\",\n",
    "    \"https://unsplash.com/photos/8DD1lA7oW2U\"\n",
    "]\n",
    "\n",
    "for adds in photos_url:\n",
    "    time.sleep(random.randint(2, 10))\n",
    "    parameters = {\n",
    "        \"chat_id\" : \"-674797008\",\n",
    "        \"photo\" : adds,\n",
    "        \n",
    "        \n",
    "    }\n",
    "    p = requests.get(base_url, data = parameters)\n",
    "    print(p.text)"
   ]
  },
  {
   "cell_type": "markdown",
   "metadata": {},
   "source": [
    "# Sending Audio File from URL\n",
    "\n",
    "Bensound is a real Audio"
   ]
  },
  {
   "cell_type": "code",
   "execution_count": 24,
   "metadata": {},
   "outputs": [
    {
     "name": "stdout",
     "output_type": "stream",
     "text": [
      "{\"ok\":true,\"result\":{\"message_id\":147,\"from\":{\"id\":5665382544,\"is_bot\":true,\"first_name\":\"Foram bot\",\"username\":\"shubham_panwala_bot\"},\"chat\":{\"id\":-674797008,\"title\":\"Happy family\",\"type\":\"group\",\"all_members_are_administrators\":true},\"date\":1661522858,\"audio\":{\"duration\":146,\"file_name\":\"bensound-ukulele.mp3\",\"mime_type\":\"audio/mpeg\",\"file_id\":\"CQACAgQAAxkDAAOTYwjTqoKVBc5Jiv7v_vtxCkCAyXIAAq0HAQAB5xxkByxOhE36LHhuKQQ\",\"file_unique_id\":\"AgADrQcBAAHnHGQH\",\"file_size\":2050193},\"caption\":\"here is an audio file for you\"}}\n"
     ]
    }
   ],
   "source": [
    "import requests\n",
    "import time\n",
    "\n",
    "base_url = \"https://api.telegram.org/bot5665382544:AAGalE88IjUtJRD4b7UxuPbhOeBZTpzKvFg/sendAudio\"\n",
    "\n",
    "parameters = {\n",
    "    \"chat_id\" : \"-674797008\",\n",
    "    \"audio\" : \"https://www.bensound.com/bensound-music/bensound-ukulele.mp3\",\n",
    "    \"caption\" : \"here is an audio file for you\"\n",
    "}\n",
    "\n",
    "resp = requests.get(base_url, data = parameters)\n",
    "print(resp.text)\n"
   ]
  },
  {
   "cell_type": "markdown",
   "metadata": {},
   "source": [
    "# Sending Audio File from Local Disk or Drive"
   ]
  },
  {
   "cell_type": "code",
   "execution_count": 25,
   "metadata": {},
   "outputs": [
    {
     "name": "stdout",
     "output_type": "stream",
     "text": [
      "{\"ok\":true,\"result\":{\"message_id\":148,\"from\":{\"id\":5665382544,\"is_bot\":true,\"first_name\":\"Foram bot\",\"username\":\"shubham_panwala_bot\"},\"chat\":{\"id\":-674797008,\"title\":\"Happy family\",\"type\":\"group\",\"all_members_are_administrators\":true},\"date\":1661522885,\"audio\":{\"duration\":123,\"file_name\":\"bensound-windowtotheworld.mp3\",\"mime_type\":\"audio/mpeg\",\"file_id\":\"CQACAgUAAxkDAAOUYwjTxfNTstkkyCFcKUubVpODcYkAAgoHAAKU0UlU0xXlweWULVgpBA\",\"file_unique_id\":\"AgADCgcAApTRSVQ\",\"file_size\":2960607},\"caption\":\"This is audio file\"}}\n"
     ]
    }
   ],
   "source": [
    "import requests\n",
    "import time\n",
    "\n",
    "base_url = \"https://api.telegram.org/bot5665382544:AAGalE88IjUtJRD4b7UxuPbhOeBZTpzKvFg/sendAudio\"\n",
    "\n",
    "my_file = open(\"E:\\\\IACSD_PROJECT_RELATED_PAPER\\\\Telegram-message\\\\fol-owlows\\\\bensound-windowtotheworld.mp3\",\"rb\")\n",
    "\n",
    "\n",
    "parameters = {\n",
    "    \"chat_id\" : \"-674797008\",\n",
    "    \"caption\" : \"This is audio file\"\n",
    "}\n",
    "\n",
    "\n",
    "files = {\n",
    "    \"audio\" : my_file\n",
    "}\n",
    "\n",
    "resp = requests.get(base_url, data = parameters, files=files)\n",
    "print(resp.text)\n"
   ]
  },
  {
   "cell_type": "markdown",
   "metadata": {},
   "source": [
    "# Sending a multiple audio file to local disk"
   ]
  },
  {
   "cell_type": "code",
   "execution_count": 26,
   "metadata": {},
   "outputs": [
    {
     "name": "stdout",
     "output_type": "stream",
     "text": [
      "{\"ok\":true,\"result\":{\"message_id\":149,\"from\":{\"id\":5665382544,\"is_bot\":true,\"first_name\":\"Foram bot\",\"username\":\"shubham_panwala_bot\"},\"chat\":{\"id\":-674797008,\"title\":\"Happy family\",\"type\":\"group\",\"all_members_are_administrators\":true},\"date\":1661522958,\"audio\":{\"duration\":0,\"file_name\":\"audio\",\"mime_type\":\"audio/mpeg\",\"file_id\":\"CQACAgUAAxkDAAOVYwjUDtzSbtm8rUtH1OFg1ZJBFB4AAgsHAAKU0UlULKQTkA8PpzcpBA\",\"file_unique_id\":\"AgADCwcAApTRSVQ\",\"file_size\":89},\"caption\":\"This is audio file\"}}\n",
      "{\"ok\":true,\"result\":{\"message_id\":150,\"from\":{\"id\":5665382544,\"is_bot\":true,\"first_name\":\"Foram bot\",\"username\":\"shubham_panwala_bot\"},\"chat\":{\"id\":-674797008,\"title\":\"Happy family\",\"type\":\"group\",\"all_members_are_administrators\":true},\"date\":1661523030,\"audio\":{\"duration\":0,\"file_name\":\"audio\",\"mime_type\":\"audio/mpeg\",\"file_id\":\"CQACAgUAAxkDAAOWYwjUVlbt_NLMghatUr53lqTl8VEAAgwHAAKU0UlUVsL9CJIXjwEpBA\",\"file_unique_id\":\"AgADDAcAApTRSVQ\",\"file_size\":83},\"caption\":\"This is audio file\"}}\n",
      "{\"ok\":true,\"result\":{\"message_id\":151,\"from\":{\"id\":5665382544,\"is_bot\":true,\"first_name\":\"Foram bot\",\"username\":\"shubham_panwala_bot\"},\"chat\":{\"id\":-674797008,\"title\":\"Happy family\",\"type\":\"group\",\"all_members_are_administrators\":true},\"date\":1661523102,\"audio\":{\"duration\":0,\"file_name\":\"audio\",\"mime_type\":\"audio/mpeg\",\"file_id\":\"CQACAgUAAxkDAAOXYwjUntPuHq0AAXEJ6Osb3UFtUvU3AAINBwAClNFJVOOpQXO34r36KQQ\",\"file_unique_id\":\"AgADDQcAApTRSVQ\",\"file_size\":89},\"caption\":\"This is audio file\"}}\n",
      "{\"ok\":true,\"result\":{\"message_id\":152,\"from\":{\"id\":5665382544,\"is_bot\":true,\"first_name\":\"Foram bot\",\"username\":\"shubham_panwala_bot\"},\"chat\":{\"id\":-674797008,\"title\":\"Happy family\",\"type\":\"group\",\"all_members_are_administrators\":true},\"date\":1661523174,\"audio\":{\"duration\":0,\"file_name\":\"audio\",\"mime_type\":\"audio/mpeg\",\"file_id\":\"CQACAgUAAxkDAAOYYwjU5ge2WV64V9DlCyTFwJXy2QsAAg4HAAKU0UlUZNN9IhL_WggpBA\",\"file_unique_id\":\"AgADDgcAApTRSVQ\",\"file_size\":87},\"caption\":\"This is audio file\"}}\n",
      "{\"ok\":true,\"result\":{\"message_id\":153,\"from\":{\"id\":5665382544,\"is_bot\":true,\"first_name\":\"Foram bot\",\"username\":\"shubham_panwala_bot\"},\"chat\":{\"id\":-674797008,\"title\":\"Happy family\",\"type\":\"group\",\"all_members_are_administrators\":true},\"date\":1661523247,\"audio\":{\"duration\":0,\"file_name\":\"audio\",\"mime_type\":\"audio/mpeg\",\"file_id\":\"CQACAgUAAxkDAAOZYwjVL92gS4l72KIcjcwbPHHwKVwAAg8HAAKU0UlUxCnnshQGxckpBA\",\"file_unique_id\":\"AgADDwcAApTRSVQ\",\"file_size\":79},\"caption\":\"This is audio file\"}}\n",
      "{\"ok\":true,\"result\":{\"message_id\":154,\"from\":{\"id\":5665382544,\"is_bot\":true,\"first_name\":\"Foram bot\",\"username\":\"shubham_panwala_bot\"},\"chat\":{\"id\":-674797008,\"title\":\"Happy family\",\"type\":\"group\",\"all_members_are_administrators\":true},\"date\":1661523319,\"audio\":{\"duration\":0,\"file_name\":\"audio\",\"mime_type\":\"audio/mpeg\",\"file_id\":\"CQACAgUAAxkDAAOaYwjVd50eOQaS-d_Ab52BpCRAPxMAAhAHAAKU0UlU9Li-sqiQJ6ApBA\",\"file_unique_id\":\"AgADEAcAApTRSVQ\",\"file_size\":2},\"caption\":\"This is audio file\"}}\n"
     ]
    }
   ],
   "source": [
    "import requests\n",
    "import time\n",
    "\n",
    "base_url = \"https://api.telegram.org/bot5665382544:AAGalE88IjUtJRD4b7UxuPbhOeBZTpzKvFg/sendAudio\"\n",
    "\n",
    "my_file = [\"E:\\\\IACSD_PROJECT_RELATED_PAPER\\\\Telegram-message\\\\fol-owlows\\\\song\\\\bensound-wonderfulmorning\",\n",
    "           \"E:\\\\IACSD_PROJECT_RELATED_PAPER\\\\Telegram-message\\\\fol-owlows\\\\song\\bensound-dayafterday\",\n",
    "           \"E:\\\\IACSD_PROJECT_RELATED_PAPER\\\\Telegram-message\\\\fol-owlows\\\\song\\\\bensound-thethirteenthday\",\n",
    "           \"E:\\\\IACSD_PROJECT_RELATED_PAPER\\\\Telegram-message\\\\fol-owlows\\\\song\\\\bensound-thisisyourtime\",\n",
    "           \"E:\\\\IACSD_PROJECT_RELATED_PAPER\\\\Telegram-message\\\\fol-owlows\\\\song\\\\bensound-wonder\",\"rb\"]\n",
    "\n",
    "parameters = {\n",
    "    \"chat_id\" : \"-674797008\",\n",
    "    \"caption\" : \"This is audio file\"\n",
    "}\n",
    "\n",
    "\n",
    "for audio_file in my_file:\n",
    "    time.sleep(50)\n",
    "    files = {\n",
    "        \"audio\" : audio_file\n",
    "    }\n",
    "    sp = requests.get(base_url, data = parameters, files=files)\n",
    "    print(sp.text)\n"
   ]
  },
  {
   "cell_type": "markdown",
   "metadata": {},
   "source": [
    "# Sending a  csv file to local disk\n"
   ]
  },
  {
   "cell_type": "code",
   "execution_count": 27,
   "metadata": {
    "scrolled": true
   },
   "outputs": [
    {
     "name": "stdout",
     "output_type": "stream",
     "text": [
      "{\"ok\":true,\"result\":{\"message_id\":155,\"from\":{\"id\":5665382544,\"is_bot\":true,\"first_name\":\"Foram bot\",\"username\":\"shubham_panwala_bot\"},\"chat\":{\"id\":-674797008,\"title\":\"Happy family\",\"type\":\"group\",\"all_members_are_administrators\":true},\"date\":1661523356,\"document\":{\"file_name\":\"ipl.csv\",\"mime_type\":\"text/csv\",\"file_id\":\"BQACAgUAAxkDAAObYwjVm_sIdfIo5YkbQWNydNmXDVkAAhEHAAKU0UlU-Wog-3sgh2QpBA\",\"file_unique_id\":\"AgADEQcAApTRSVQ\",\"file_size\":9484410},\"caption\":\"here is another document for you\"}}\n"
     ]
    }
   ],
   "source": [
    "import requests\n",
    "\n",
    "\n",
    "base_url = \"https://api.telegram.org/bot5665382544:AAGalE88IjUtJRD4b7UxuPbhOeBZTpzKvFg/sendDocument\"\n",
    "\n",
    "my_file = open(\"E:\\\\IACSD_PROJECT_RELATED_PAPER\\\\all-code-file\\\\IPL-First-Innings-Score-Prediction-Deployment-master\\\\ipl.csv\", \"rb\")\n",
    "\n",
    "parameters = {\n",
    "    \"chat_id\" : \"-674797008\",\n",
    "    \"caption\" : \"here is another document for you\"\n",
    "}\n",
    "\n",
    "\n",
    "files = {\n",
    "    \"document\" : my_file\n",
    "}\n",
    "\n",
    "resp = requests.get(base_url, data = parameters, files=files)\n",
    "print(resp.text)\n"
   ]
  },
  {
   "cell_type": "code",
   "execution_count": 28,
   "metadata": {},
   "outputs": [
    {
     "name": "stdout",
     "output_type": "stream",
     "text": [
      "{\"ok\":true,\"result\":{\"message_id\":156,\"from\":{\"id\":5665382544,\"is_bot\":true,\"first_name\":\"Foram bot\",\"username\":\"shubham_panwala_bot\"},\"chat\":{\"id\":-674797008,\"title\":\"Happy family\",\"type\":\"group\",\"all_members_are_administrators\":true},\"date\":1661523413,\"document\":{\"file_name\":\"Deep_Learning_for_Computer_Vision_with_Python_by_Adrian_Rosebroc.pdf\",\"mime_type\":\"application/pdf\",\"file_id\":\"BQACAgUAAxkDAAOcYwjV1RkMtA3JJJ4Blv8fbLpV2rAAAhIHAAKU0UlUVITgZZ7wjSQpBA\",\"file_unique_id\":\"AgADEgcAApTRSVQ\",\"file_size\":27728155},\"caption\":\"here is another document for you\"}}\n"
     ]
    }
   ],
   "source": [
    "import requests\n",
    "\n",
    "\n",
    "base_url = \"https://api.telegram.org/bot5665382544:AAGalE88IjUtJRD4b7UxuPbhOeBZTpzKvFg/sendDocument\"\n",
    "\n",
    "my_file = open(\"F:\\\\IACSD-PROJECT-MECHANICAL-IACSD-PROJECT-MECHNICAL-TOOL\\\\Deep Learning for Computer Vision with Python by Adrian Rosebrock (z-lib.org).pdf\", \"rb\")\n",
    "\n",
    "parameters = {\n",
    "    \"chat_id\" : \"-674797008\",\n",
    "    \"caption\" : \"here is another document for you\"\n",
    "}\n",
    "\n",
    "\n",
    "files = {\n",
    "    \"document\" : my_file\n",
    "}\n",
    "\n",
    "resp = requests.get(base_url, data = parameters, files=files)\n",
    "print(resp.text)"
   ]
  },
  {
   "cell_type": "markdown",
   "metadata": {},
   "source": [
    "# Sending a  multiple csv file to local disk"
   ]
  },
  {
   "cell_type": "code",
   "execution_count": 29,
   "metadata": {},
   "outputs": [
    {
     "name": "stdout",
     "output_type": "stream",
     "text": [
      "{\"ok\":false,\"error_code\":400,\"description\":\"Bad Request: there is no document in the request\"}\n",
      "{\"ok\":false,\"error_code\":400,\"description\":\"Bad Request: there is no document in the request\"}\n",
      "{\"ok\":false,\"error_code\":400,\"description\":\"Bad Request: there is no document in the request\"}\n",
      "{\"ok\":false,\"error_code\":400,\"description\":\"Bad Request: there is no document in the request\"}\n",
      "{\"ok\":false,\"error_code\":400,\"description\":\"Bad Request: there is no document in the request\"}\n",
      "{\"ok\":false,\"error_code\":400,\"description\":\"Bad Request: there is no document in the request\"}\n"
     ]
    }
   ],
   "source": [
    "import requests\n",
    "import time\n",
    "\n",
    "base_url = \"https://api.telegram.org/bot5665382544:AAGalE88IjUtJRD4b7UxuPbhOeBZTpzKvFg/sendDocument\"\n",
    "\n",
    "my_file = [\"E:\\\\IACSD_PROJECT_RELATED_PAPER\\\\Stock Market Subreddits\\\\reddit.csv\",\n",
    "           \"E:\\\\java-8_IACSD_EDBDA\\\\java_lect_02.pdf\",\n",
    "           \"E:\\\\java-8_IACSD_EDBDA\\\\Install JDK n IDE.txt\",\n",
    "           \"E:\\linux_IACSD_EDBDA\\\\SHELL SCRIPTING 10_5_2020.docx\"\n",
    "          ]\n",
    "\n",
    "parameters = {\n",
    "    \"chat_id\" : \"-674797008\",\n",
    "    \"caption\" : \"This is audio file\"\n",
    "}\n",
    "\n",
    "\n",
    "for audio_file in my_file:\n",
    "    time.sleep(50)\n",
    "    files = {\n",
    "        \"audio\" : audio_file\n",
    "    }\n",
    "    sp = requests.get(base_url, data = parameters, files=files)\n",
    "    print(sp.text)\n"
   ]
  },
  {
   "cell_type": "markdown",
   "metadata": {},
   "source": [
    "\n"
   ]
  },
  {
   "cell_type": "code",
   "execution_count": null,
   "metadata": {},
   "outputs": [],
   "source": []
  }
 ],
 "metadata": {
  "kernelspec": {
   "display_name": "Python 3 (ipykernel)",
   "language": "python",
   "name": "python3"
  },
  "language_info": {
   "codemirror_mode": {
    "name": "ipython",
    "version": 3
   },
   "file_extension": ".py",
   "mimetype": "text/x-python",
   "name": "python",
   "nbconvert_exporter": "python",
   "pygments_lexer": "ipython3",
   "version": "3.9.12"
  }
 },
 "nbformat": 4,
 "nbformat_minor": 4
}
