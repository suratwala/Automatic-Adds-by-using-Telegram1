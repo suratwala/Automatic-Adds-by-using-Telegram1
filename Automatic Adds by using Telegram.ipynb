{
 "cells": [
  {
   "cell_type": "markdown",
   "metadata": {},
   "source": [
    "#  Automatic Adds by using Telegram"
   ]
  },
  {
   "cell_type": "markdown",
   "metadata": {},
   "source": [
    " # How to create bot URL\n",
    "    1. Open Telegram.\n",
    "    2. Type search bar for BotFather.\n",
    "    3. Type '/newbot'.\n",
    "    4. Now let choose a username for your bot. It must end in `bot`. Like this, for example: TetrisBot or tetris_bot.\n",
    "    5. Type '/setprivacy'.\n",
    "    6. Type @create own username bot.\n",
    "    7. privacy disable.\n",
    "    8. create own group and add created bot member."
   ]
  },
  {
   "cell_type": "markdown",
   "metadata": {},
   "source": [
    "# create own boat URL"
   ]
  },
  {
   "cell_type": "code",
   "execution_count": 8,
   "metadata": {},
   "outputs": [
    {
     "name": "stdout",
     "output_type": "stream",
     "text": [
      "{\"ok\":true,\"result\":[{\"update_id\":684736637,\n",
      "\"message\":{\"message_id\":16,\"from\":{\"id\":1153502926,\"is_bot\":false,\"first_name\":\"Foram\",\"last_name\":\"Suratwala\"},\"chat\":{\"id\":-674797008,\"title\":\"Happy family\",\"type\":\"group\",\"all_members_are_administrators\":true},\"date\":1661094599,\"text\":\"hiippy\"}},{\"update_id\":684736638,\n",
      "\"message\":{\"message_id\":17,\"from\":{\"id\":1153502926,\"is_bot\":false,\"first_name\":\"Foram\",\"last_name\":\"Suratwala\"},\"chat\":{\"id\":-674797008,\"title\":\"Happy family\",\"type\":\"group\",\"all_members_are_administrators\":true},\"date\":1661094601,\"text\":\"top\"}},{\"update_id\":684736639,\n",
      "\"message\":{\"message_id\":18,\"from\":{\"id\":1153502926,\"is_bot\":false,\"first_name\":\"Foram\",\"last_name\":\"Suratwala\"},\"chat\":{\"id\":-674797008,\"title\":\"Happy family\",\"type\":\"group\",\"all_members_are_administrators\":true},\"date\":1661094605,\"text\":\"bottom\"}},{\"update_id\":684736640,\n",
      "\"message\":{\"message_id\":19,\"from\":{\"id\":1153502926,\"is_bot\":false,\"first_name\":\"Foram\",\"last_name\":\"Suratwala\"},\"chat\":{\"id\":-674797008,\"title\":\"Happy family\",\"type\":\"group\",\"all_members_are_administrators\":true},\"date\":1661094611,\"text\":\"mirror\"}}]}\n"
     ]
    }
   ],
   "source": [
    "import requests\n",
    "\n",
    "p = requests.get(\"https://api.telegram.org/bot5665382544:AAGalE88IjUtJRD4b7UxuPbhOeBZTpzKvFg/getupdates\")\n",
    "print(p.text)\n",
    "\n"
   ]
  },
  {
   "cell_type": "code",
   "execution_count": 9,
   "metadata": {},
   "outputs": [
    {
     "name": "stdout",
     "output_type": "stream",
     "text": [
      "{\"ok\":true,\"result\":[{\"update_id\":684736637,\n",
      "\"message\":{\"message_id\":16,\"from\":{\"id\":1153502926,\"is_bot\":false,\"first_name\":\"Foram\",\"last_name\":\"Suratwala\"},\"chat\":{\"id\":-674797008,\"title\":\"Happy family\",\"type\":\"group\",\"all_members_are_administrators\":true},\"date\":1661094599,\"text\":\"hiippy\"}},{\"update_id\":684736638,\n",
      "\"message\":{\"message_id\":17,\"from\":{\"id\":1153502926,\"is_bot\":false,\"first_name\":\"Foram\",\"last_name\":\"Suratwala\"},\"chat\":{\"id\":-674797008,\"title\":\"Happy family\",\"type\":\"group\",\"all_members_are_administrators\":true},\"date\":1661094601,\"text\":\"top\"}},{\"update_id\":684736639,\n",
      "\"message\":{\"message_id\":18,\"from\":{\"id\":1153502926,\"is_bot\":false,\"first_name\":\"Foram\",\"last_name\":\"Suratwala\"},\"chat\":{\"id\":-674797008,\"title\":\"Happy family\",\"type\":\"group\",\"all_members_are_administrators\":true},\"date\":1661094605,\"text\":\"bottom\"}},{\"update_id\":684736640,\n",
      "\"message\":{\"message_id\":19,\"from\":{\"id\":1153502926,\"is_bot\":false,\"first_name\":\"Foram\",\"last_name\":\"Suratwala\"},\"chat\":{\"id\":-674797008,\"title\":\"Happy family\",\"type\":\"group\",\"all_members_are_administrators\":true},\"date\":1661094611,\"text\":\"mirror\"}}]}\n"
     ]
    }
   ],
   "source": [
    "import requests\n",
    "\n",
    "p = requests.get(\"https://api.telegram.org/bot5665382544:AAGalE88IjUtJRD4b7UxuPbhOeBZTpzKvFg/getupdates?offset=684736628\")\n",
    "print(p.text)"
   ]
  },
  {
   "cell_type": "markdown",
   "metadata": {},
   "source": [
    "# Read Data From Groups"
   ]
  },
  {
   "cell_type": "code",
   "execution_count": 10,
   "metadata": {},
   "outputs": [
    {
     "name": "stdout",
     "output_type": "stream",
     "text": [
      "{\"ok\":true,\"result\":[{\"update_id\":684736637,\n",
      "\"message\":{\"message_id\":16,\"from\":{\"id\":1153502926,\"is_bot\":false,\"first_name\":\"Foram\",\"last_name\":\"Suratwala\"},\"chat\":{\"id\":-674797008,\"title\":\"Happy family\",\"type\":\"group\",\"all_members_are_administrators\":true},\"date\":1661094599,\"text\":\"hiippy\"}},{\"update_id\":684736638,\n",
      "\"message\":{\"message_id\":17,\"from\":{\"id\":1153502926,\"is_bot\":false,\"first_name\":\"Foram\",\"last_name\":\"Suratwala\"},\"chat\":{\"id\":-674797008,\"title\":\"Happy family\",\"type\":\"group\",\"all_members_are_administrators\":true},\"date\":1661094601,\"text\":\"top\"}},{\"update_id\":684736639,\n",
      "\"message\":{\"message_id\":18,\"from\":{\"id\":1153502926,\"is_bot\":false,\"first_name\":\"Foram\",\"last_name\":\"Suratwala\"},\"chat\":{\"id\":-674797008,\"title\":\"Happy family\",\"type\":\"group\",\"all_members_are_administrators\":true},\"date\":1661094605,\"text\":\"bottom\"}},{\"update_id\":684736640,\n",
      "\"message\":{\"message_id\":19,\"from\":{\"id\":1153502926,\"is_bot\":false,\"first_name\":\"Foram\",\"last_name\":\"Suratwala\"},\"chat\":{\"id\":-674797008,\"title\":\"Happy family\",\"type\":\"group\",\"all_members_are_administrators\":true},\"date\":1661094611,\"text\":\"mirror\"}}]}\n"
     ]
    }
   ],
   "source": [
    "import requests\n",
    "\n",
    "base_url = \"https://api.telegram.org/bot5665382544:AAGalE88IjUtJRD4b7UxuPbhOeBZTpzKvFg/getUpdates\"\n",
    "\n",
    "parameters = {\n",
    "    \"offset\" : \"684736631\"\n",
    "}\n",
    "\n",
    "p = requests.get(base_url, data = parameters)\n",
    "print(p.text)\n"
   ]
  },
  {
   "cell_type": "code",
   "execution_count": 11,
   "metadata": {},
   "outputs": [
    {
     "name": "stdout",
     "output_type": "stream",
     "text": [
      "{\"ok\":true,\"result\":[{\"update_id\":684736637,\n",
      "\"message\":{\"message_id\":16,\"from\":{\"id\":1153502926,\"is_bot\":false,\"first_name\":\"Foram\",\"last_name\":\"Suratwala\"},\"chat\":{\"id\":-674797008,\"title\":\"Happy family\",\"type\":\"group\",\"all_members_are_administrators\":true},\"date\":1661094599,\"text\":\"hiippy\"}},{\"update_id\":684736638,\n",
      "\"message\":{\"message_id\":17,\"from\":{\"id\":1153502926,\"is_bot\":false,\"first_name\":\"Foram\",\"last_name\":\"Suratwala\"},\"chat\":{\"id\":-674797008,\"title\":\"Happy family\",\"type\":\"group\",\"all_members_are_administrators\":true},\"date\":1661094601,\"text\":\"top\"}}]}\n"
     ]
    }
   ],
   "source": [
    "import requests\n",
    "\n",
    "base_url = \"https://api.telegram.org/bot5665382544:AAGalE88IjUtJRD4b7UxuPbhOeBZTpzKvFg/getUpdates\"\n",
    "\n",
    "parameters = {\n",
    "    \"offset\" : \"684736637\",\n",
    "    \"limit\" : \"2\"\n",
    "}\n",
    "\n",
    "p = requests.get(base_url, data = parameters)\n",
    "print(p.text)"
   ]
  },
  {
   "cell_type": "code",
   "execution_count": 12,
   "metadata": {},
   "outputs": [
    {
     "name": "stdout",
     "output_type": "stream",
     "text": [
      "{\"ok\":true,\"result\":[{\"update_id\":684736637,\n",
      "\"message\":{\"message_id\":16,\"from\":{\"id\":1153502926,\"is_bot\":false,\"first_name\":\"Foram\",\"last_name\":\"Suratwala\"},\"chat\":{\"id\":-674797008,\"title\":\"Happy family\",\"type\":\"group\",\"all_members_are_administrators\":true},\"date\":1661094599,\"text\":\"hiippy\"}}]}\n"
     ]
    }
   ],
   "source": [
    "import requests\n",
    "\n",
    "p = requests.get(\"https://api.telegram.org/bot5665382544:AAGalE88IjUtJRD4b7UxuPbhOeBZTpzKvFg/getupdates?offset=684736628&limit=1\")\n",
    "print(p.text)"
   ]
  },
  {
   "cell_type": "markdown",
   "metadata": {},
   "source": [
    "# Automatic adds in Telegram\n",
    "Adds like image, audio, csv"
   ]
  },
  {
   "cell_type": "markdown",
   "metadata": {},
   "source": [
    "#  Sending Messages\n",
    "Send Message"
   ]
  },
  {
   "cell_type": "code",
   "execution_count": 16,
   "metadata": {},
   "outputs": [
    {
     "name": "stdout",
     "output_type": "stream",
     "text": [
      "{\"ok\":true,\"result\":{\"message_id\":23,\"from\":{\"id\":5665382544,\"is_bot\":true,\"first_name\":\"Foram bot\",\"username\":\"shubham_panwala_bot\"},\"chat\":{\"id\":-674797008,\"title\":\"Happy family\",\"type\":\"group\",\"all_members_are_administrators\":true},\"date\":1661096606,\"text\":\"Hi I am Shubham_panwala_bot\"}}\n"
     ]
    }
   ],
   "source": [
    "import requests \n",
    "\n",
    "base_url = \"https://api.telegram.org/bot5665382544:AAGalE88IjUtJRD4b7UxuPbhOeBZTpzKvFg/sendMessage\"\n",
    "\n",
    "\n",
    "parameters = {\n",
    "    \"chat_id\" : \"-674797008\",\n",
    "    \"text\" : \"Hi I am Shubham_panwala_bot\"\n",
    "}\n",
    "\n",
    "p = requests.get(base_url, data = parameters)\n",
    "print(p.text)\n"
   ]
  },
  {
   "cell_type": "markdown",
   "metadata": {},
   "source": [
    "# multiple msg after 20 second"
   ]
  },
  {
   "cell_type": "code",
   "execution_count": 18,
   "metadata": {},
   "outputs": [
    {
     "name": "stdout",
     "output_type": "stream",
     "text": [
      "{\"ok\":true,\"result\":{\"message_id\":29,\"from\":{\"id\":5665382544,\"is_bot\":true,\"first_name\":\"Foram bot\",\"username\":\"shubham_panwala_bot\"},\"chat\":{\"id\":-674797008,\"title\":\"Happy family\",\"type\":\"group\",\"all_members_are_administrators\":true},\"date\":1661099148,\"text\":\"We used to play spin the bottle when I was a kid. 8\"}}\n",
      "{\"ok\":true,\"result\":{\"message_id\":30,\"from\":{\"id\":5665382544,\"is_bot\":true,\"first_name\":\"Foram bot\",\"username\":\"shubham_panwala_bot\"},\"chat\":{\"id\":-674797008,\"title\":\"Happy family\",\"type\":\"group\",\"all_members_are_administrators\":true},\"date\":1661099170,\"text\":\"A man went into a seafood restaurant and asked for a lobster tail. 5\"}}\n",
      "{\"ok\":true,\"result\":{\"message_id\":31,\"from\":{\"id\":5665382544,\"is_bot\":true,\"first_name\":\"Foram bot\",\"username\":\"shubham_panwala_bot\"},\"chat\":{\"id\":-674797008,\"title\":\"Happy family\",\"type\":\"group\",\"all_members_are_administrators\":true},\"date\":1661099192,\"text\":\"A teenager brings her new boyfriend home to meet her parents. 1\"}}\n",
      "{\"ok\":true,\"result\":{\"message_id\":32,\"from\":{\"id\":5665382544,\"is_bot\":true,\"first_name\":\"Foram bot\",\"username\":\"shubham_panwala_bot\"},\"chat\":{\"id\":-674797008,\"title\":\"Happy family\",\"type\":\"group\",\"all_members_are_administrators\":true},\"date\":1661099264,\"text\":\"Muttered over a martini: I hate golf. 9\"}}\n",
      "{\"ok\":true,\"result\":{\"message_id\":33,\"from\":{\"id\":5665382544,\"is_bot\":true,\"first_name\":\"Foram bot\",\"username\":\"shubham_panwala_bot\"},\"chat\":{\"id\":-674797008,\"title\":\"Happy family\",\"type\":\"group\",\"all_members_are_administrators\":true},\"date\":1661099293,\"text\":\"A bird in the hand is bad table manners. 10 A small boy, reciting the Lord\\u2019s Prayer. 3\"}}\n",
      "{\"ok\":true,\"result\":{\"message_id\":34,\"from\":{\"id\":5665382544,\"is_bot\":true,\"first_name\":\"Foram bot\",\"username\":\"shubham_panwala_bot\"},\"chat\":{\"id\":-674797008,\"title\":\"Happy family\",\"type\":\"group\",\"all_members_are_administrators\":true},\"date\":1661099315,\"text\":\"Two hunters are out in the woods when one of them collapses. 4\"}}\n",
      "{\"ok\":true,\"result\":{\"message_id\":35,\"from\":{\"id\":5665382544,\"is_bot\":true,\"first_name\":\"Foram bot\",\"username\":\"shubham_panwala_bot\"},\"chat\":{\"id\":-674797008,\"title\":\"Happy family\",\"type\":\"group\",\"all_members_are_administrators\":true},\"date\":1661099337,\"text\":\"How many telemarketers does it take to change a light bulb? 7\"}}\n",
      "{\"ok\":true,\"result\":{\"message_id\":36,\"from\":{\"id\":5665382544,\"is_bot\":true,\"first_name\":\"Foram bot\",\"username\":\"shubham_panwala_bot\"},\"chat\":{\"id\":-674797008,\"title\":\"Happy family\",\"type\":\"group\",\"all_members_are_administrators\":true},\"date\":1661099366,\"text\":\"In the public library, a man with his new library card questioned the pretty librarian. 2\"}}\n",
      "{\"ok\":true,\"result\":{\"message_id\":37,\"from\":{\"id\":5665382544,\"is_bot\":true,\"first_name\":\"Foram bot\",\"username\":\"shubham_panwala_bot\"},\"chat\":{\"id\":-674797008,\"title\":\"Happy family\",\"type\":\"group\",\"all_members_are_administrators\":true},\"date\":1661099390,\"text\":\"Did you hear they arrested the devil? 6\"}}\n"
     ]
    }
   ],
   "source": [
    "import requests \n",
    "\n",
    "base_url = \"https://api.telegram.org/bot5665382544:AAGalE88IjUtJRD4b7UxuPbhOeBZTpzKvFg/sendMessage\"\n",
    "\n",
    "joks = {\n",
    "\" A teenager brings her new boyfriend home to meet her parents. 1\" ,\n",
    "\" In the public library, a man with his new library card questioned the pretty librarian. 2\",\n",
    "\" Two hunters are out in the woods when one of them collapses. 4\" ,\n",
    "\" A man went into a seafood restaurant and asked for a lobster tail. 5\" ,\n",
    "\" Did you hear they arrested the devil? 6\" ,\n",
    "\" How many telemarketers does it take to change a light bulb? 7\" ,\n",
    "\" We used to play spin the bottle when I was a kid. 8\" ,\n",
    "\" Muttered over a martini: I hate golf. 9\" ,\n",
    "\" A bird in the hand is bad table manners. 10\" \n",
    "\" A small boy, reciting the Lord’s Prayer. 3\"}\n",
    "\n",
    "for funny in joks:\n",
    "    parameters = {\n",
    "        \"chat_id\" : \"-674797008\",\n",
    "        \"text\" : funny\n",
    "    }\n",
    "    p = requests.get(base_url, data = parameters)\n",
    "    print(p.text)\n"
   ]
  },
  {
   "cell_type": "code",
   "execution_count": 19,
   "metadata": {},
   "outputs": [
    {
     "name": "stdout",
     "output_type": "stream",
     "text": [
      "{\"ok\":true,\"result\":{\"message_id\":38,\"from\":{\"id\":5665382544,\"is_bot\":true,\"first_name\":\"Foram bot\",\"username\":\"shubham_panwala_bot\"},\"chat\":{\"id\":-674797008,\"title\":\"Happy family\",\"type\":\"group\",\"all_members_are_administrators\":true},\"date\":1661099817,\"text\":\"We used to play spin the bottle when I was a kid. 8\"}}\n",
      "{\"ok\":true,\"result\":{\"message_id\":39,\"from\":{\"id\":5665382544,\"is_bot\":true,\"first_name\":\"Foram bot\",\"username\":\"shubham_panwala_bot\"},\"chat\":{\"id\":-674797008,\"title\":\"Happy family\",\"type\":\"group\",\"all_members_are_administrators\":true},\"date\":1661099858,\"text\":\"A man went into a seafood restaurant and asked for a lobster tail. 5\"}}\n",
      "{\"ok\":true,\"result\":{\"message_id\":40,\"from\":{\"id\":5665382544,\"is_bot\":true,\"first_name\":\"Foram bot\",\"username\":\"shubham_panwala_bot\"},\"chat\":{\"id\":-674797008,\"title\":\"Happy family\",\"type\":\"group\",\"all_members_are_administrators\":true},\"date\":1661099900,\"text\":\"A teenager brings her new boyfriend home to meet her parents. 1\"}}\n",
      "{\"ok\":true,\"result\":{\"message_id\":41,\"from\":{\"id\":5665382544,\"is_bot\":true,\"first_name\":\"Foram bot\",\"username\":\"shubham_panwala_bot\"},\"chat\":{\"id\":-674797008,\"title\":\"Happy family\",\"type\":\"group\",\"all_members_are_administrators\":true},\"date\":1661099942,\"text\":\"Muttered over a martini: I hate golf. 9\"}}\n",
      "{\"ok\":true,\"result\":{\"message_id\":42,\"from\":{\"id\":5665382544,\"is_bot\":true,\"first_name\":\"Foram bot\",\"username\":\"shubham_panwala_bot\"},\"chat\":{\"id\":-674797008,\"title\":\"Happy family\",\"type\":\"group\",\"all_members_are_administrators\":true},\"date\":1661099984,\"text\":\"A bird in the hand is bad table manners. 10 A small boy, reciting the Lord\\u2019s Prayer. 3\"}}\n",
      "{\"ok\":true,\"result\":{\"message_id\":43,\"from\":{\"id\":5665382544,\"is_bot\":true,\"first_name\":\"Foram bot\",\"username\":\"shubham_panwala_bot\"},\"chat\":{\"id\":-674797008,\"title\":\"Happy family\",\"type\":\"group\",\"all_members_are_administrators\":true},\"date\":1661100033,\"text\":\"Two hunters are out in the woods when one of them collapses. 4\"}}\n",
      "{\"ok\":true,\"result\":{\"message_id\":44,\"from\":{\"id\":5665382544,\"is_bot\":true,\"first_name\":\"Foram bot\",\"username\":\"shubham_panwala_bot\"},\"chat\":{\"id\":-674797008,\"title\":\"Happy family\",\"type\":\"group\",\"all_members_are_administrators\":true},\"date\":1661100075,\"text\":\"How many telemarketers does it take to change a light bulb? 7\"}}\n",
      "{\"ok\":true,\"result\":{\"message_id\":45,\"from\":{\"id\":5665382544,\"is_bot\":true,\"first_name\":\"Foram bot\",\"username\":\"shubham_panwala_bot\"},\"chat\":{\"id\":-674797008,\"title\":\"Happy family\",\"type\":\"group\",\"all_members_are_administrators\":true},\"date\":1661100117,\"text\":\"In the public library, a man with his new library card questioned the pretty librarian. 2\"}}\n",
      "{\"ok\":true,\"result\":{\"message_id\":46,\"from\":{\"id\":5665382544,\"is_bot\":true,\"first_name\":\"Foram bot\",\"username\":\"shubham_panwala_bot\"},\"chat\":{\"id\":-674797008,\"title\":\"Happy family\",\"type\":\"group\",\"all_members_are_administrators\":true},\"date\":1661100159,\"text\":\"Did you hear they arrested the devil? 6\"}}\n"
     ]
    }
   ],
   "source": [
    "import requests\n",
    "import time\n",
    "\n",
    "base_url = \"https://api.telegram.org/bot5665382544:AAGalE88IjUtJRD4b7UxuPbhOeBZTpzKvFg/sendMessage\"\n",
    "\n",
    "joks = {\n",
    "\" A teenager brings her new boyfriend home to meet her parents. 1\" ,\n",
    "\" In the public library, a man with his new library card questioned the pretty librarian. 2\",\n",
    "\" Two hunters are out in the woods when one of them collapses. 4\" ,\n",
    "\" A man went into a seafood restaurant and asked for a lobster tail. 5\" ,\n",
    "\" Did you hear they arrested the devil? 6\" ,\n",
    "\" How many telemarketers does it take to change a light bulb? 7\" ,\n",
    "\" We used to play spin the bottle when I was a kid. 8\" ,\n",
    "\" Muttered over a martini: I hate golf. 9\" ,\n",
    "\" A bird in the hand is bad table manners. 10\" \n",
    "\" A small boy, reciting the Lord’s Prayer. 3\"}\n",
    " \n",
    "for funny in joks:\n",
    "    time.sleep (20)\n",
    "    parameters = {\n",
    "        \"chat_id\" : \"-674797008\",\n",
    "        \"text\" : funny\n",
    "    } \n",
    "    p = requests.get(base_url, data = parameters)\n",
    "    print(p.text)"
   ]
  },
  {
   "cell_type": "markdown",
   "metadata": {},
   "source": [
    "# Adds Photos\n",
    "Unsplash is used for free photos"
   ]
  },
  {
   "cell_type": "code",
   "execution_count": 22,
   "metadata": {},
   "outputs": [
    {
     "name": "stdout",
     "output_type": "stream",
     "text": [
      "{\"ok\":true,\"result\":{\"message_id\":47,\"from\":{\"id\":5665382544,\"is_bot\":true,\"first_name\":\"Foram bot\",\"username\":\"shubham_panwala_bot\"},\"chat\":{\"id\":-674797008,\"title\":\"Happy family\",\"type\":\"group\",\"all_members_are_administrators\":true},\"date\":1661107165,\"photo\":[{\"file_id\":\"AgACAgQAAxkDAAMvYwJ73dC1j-37n6jsiZ9VY5e1COoAAgevMRv78B1QKumJjWFHbw0BAAMCAANzAAMpBA\",\"file_unique_id\":\"AQADB68xG_vwHVB4\",\"file_size\":1135,\"width\":90,\"height\":47},{\"file_id\":\"AgACAgQAAxkDAAMvYwJ73dC1j-37n6jsiZ9VY5e1COoAAgevMRv78B1QKumJjWFHbw0BAAMCAANtAAMpBA\",\"file_unique_id\":\"AQADB68xG_vwHVBy\",\"file_size\":16711,\"width\":320,\"height\":168},{\"file_id\":\"AgACAgQAAxkDAAMvYwJ73dC1j-37n6jsiZ9VY5e1COoAAgevMRv78B1QKumJjWFHbw0BAAMCAAN4AAMpBA\",\"file_unique_id\":\"AQADB68xG_vwHVB9\",\"file_size\":92139,\"width\":800,\"height\":420},{\"file_id\":\"AgACAgQAAxkDAAMvYwJ73dC1j-37n6jsiZ9VY5e1COoAAgevMRv78B1QKumJjWFHbw0BAAMCAAN5AAMpBA\",\"file_unique_id\":\"AQADB68xG_vwHVB-\",\"file_size\":151549,\"width\":1200,\"height\":630}],\"caption\":\"here is hillstation photo for you\"}}\n"
     ]
    }
   ],
   "source": [
    "import requests \n",
    "\n",
    "base_url = \"https://api.telegram.org/bot5665382544:AAGalE88IjUtJRD4b7UxuPbhOeBZTpzKvFg/sendPhoto\"\n",
    "\n",
    "\n",
    "parameters = {\n",
    "    \"chat_id\" : \"-674797008\",\n",
    "    \"photo\" : \"https://unsplash.com/photos/RA55_TH8srQ\",\n",
    "    \"caption\" : \"here is hillstation photo for you\"\n",
    "}\n",
    "\n",
    "p = requests.get(base_url, data = parameters)\n",
    "print(p.text)\n"
   ]
  },
  {
   "cell_type": "markdown",
   "metadata": {},
   "source": [
    "# Multiple image"
   ]
  },
  {
   "cell_type": "code",
   "execution_count": null,
   "metadata": {},
   "outputs": [],
   "source": [
    "import requests \n",
    "\n",
    "base_url = \"https://api.telegram.org/bot5665382544:AAGalE88IjUtJRD4b7UxuPbhOeBZTpzKvFg/sendPhoto\"\n",
    "\n",
    "photos_url = [\n",
    "    \"https://unsplash.com/photos/6kBQEeyMdeg\",\n",
    "    \"https://unsplash.com/photos/it-_C9yfRIM\",\n",
    "    \"https://unsplash.com/photos/EOaYskDih0U\",\n",
    "    \"https://unsplash.com/photos/_1KKLsOhTlk\"\n",
    "]\n",
    "parameters = {\n",
    "    \"chat_id\" : \"-674797008\",\n",
    "    \"photo\" : \"https://unsplash.com/photos/RA55_TH8srQ\",\n",
    "    \"caption\" : \"here is hillstation photo for you\"\n",
    "}\n",
    "\n",
    "p = requests.get(base_url, data = parameters)\n",
    "print(p.text)\n"
   ]
  },
  {
   "cell_type": "code",
   "execution_count": 5,
   "metadata": {},
   "outputs": [
    {
     "name": "stdout",
     "output_type": "stream",
     "text": [
      "{\"ok\":true,\"result\":{\"message_id\":62,\"from\":{\"id\":5665382544,\"is_bot\":true,\"first_name\":\"Foram bot\",\"username\":\"shubham_panwala_bot\"},\"chat\":{\"id\":-674797008,\"title\":\"Happy family\",\"type\":\"group\",\"all_members_are_administrators\":true},\"date\":1661282682,\"photo\":[{\"file_id\":\"AgACAgQAAxkDAAM-YwUpeg3r5Huq5cQwjkKmgIkeTOEAAmuuMRs1rB1Ql9P3NIZcqV0BAAMCAANzAAMpBA\",\"file_unique_id\":\"AQADa64xGzWsHVB4\",\"file_size\":882,\"width\":90,\"height\":47},{\"file_id\":\"AgACAgQAAxkDAAM-YwUpeg3r5Huq5cQwjkKmgIkeTOEAAmuuMRs1rB1Ql9P3NIZcqV0BAAMCAANtAAMpBA\",\"file_unique_id\":\"AQADa64xGzWsHVBy\",\"file_size\":16060,\"width\":320,\"height\":168},{\"file_id\":\"AgACAgQAAxkDAAM-YwUpeg3r5Huq5cQwjkKmgIkeTOEAAmuuMRs1rB1Ql9P3NIZcqV0BAAMCAAN4AAMpBA\",\"file_unique_id\":\"AQADa64xGzWsHVB9\",\"file_size\":90839,\"width\":800,\"height\":420},{\"file_id\":\"AgACAgQAAxkDAAM-YwUpeg3r5Huq5cQwjkKmgIkeTOEAAmuuMRs1rB1Ql9P3NIZcqV0BAAMCAAN5AAMpBA\",\"file_unique_id\":\"AQADa64xGzWsHVB-\",\"file_size\":153986,\"width\":1200,\"height\":630}]}}\n",
      "{\"ok\":true,\"result\":{\"message_id\":63,\"from\":{\"id\":5665382544,\"is_bot\":true,\"first_name\":\"Foram bot\",\"username\":\"shubham_panwala_bot\"},\"chat\":{\"id\":-674797008,\"title\":\"Happy family\",\"type\":\"group\",\"all_members_are_administrators\":true},\"date\":1661282690,\"photo\":[{\"file_id\":\"AgACAgQAAxkDAAM_YwUpguJ3R88TWJemu316jgTc3ckAAviuMRsi6BRQw9ZAuWVsRyABAAMCAANzAAMpBA\",\"file_unique_id\":\"AQAD-K4xGyLoFFB4\",\"file_size\":1038,\"width\":90,\"height\":47},{\"file_id\":\"AgACAgQAAxkDAAM_YwUpguJ3R88TWJemu316jgTc3ckAAviuMRsi6BRQw9ZAuWVsRyABAAMCAANtAAMpBA\",\"file_unique_id\":\"AQAD-K4xGyLoFFBy\",\"file_size\":12186,\"width\":320,\"height\":168},{\"file_id\":\"AgACAgQAAxkDAAM_YwUpguJ3R88TWJemu316jgTc3ckAAviuMRsi6BRQw9ZAuWVsRyABAAMCAAN4AAMpBA\",\"file_unique_id\":\"AQAD-K4xGyLoFFB9\",\"file_size\":54455,\"width\":800,\"height\":420},{\"file_id\":\"AgACAgQAAxkDAAM_YwUpguJ3R88TWJemu316jgTc3ckAAviuMRsi6BRQw9ZAuWVsRyABAAMCAAN5AAMpBA\",\"file_unique_id\":\"AQAD-K4xGyLoFFB-\",\"file_size\":85374,\"width\":1200,\"height\":630}]}}\n",
      "{\"ok\":true,\"result\":{\"message_id\":64,\"from\":{\"id\":5665382544,\"is_bot\":true,\"first_name\":\"Foram bot\",\"username\":\"shubham_panwala_bot\"},\"chat\":{\"id\":-674797008,\"title\":\"Happy family\",\"type\":\"group\",\"all_members_are_administrators\":true},\"date\":1661282695,\"photo\":[{\"file_id\":\"AgACAgQAAxkDAANAYwUphy_Wm6I7_V0jTLcO67Sjtc8AAvmuMRvKgBRQEW3B1d36NEoBAAMCAANzAAMpBA\",\"file_unique_id\":\"AQAD-a4xG8qAFFB4\",\"file_size\":1115,\"width\":90,\"height\":47},{\"file_id\":\"AgACAgQAAxkDAANAYwUphy_Wm6I7_V0jTLcO67Sjtc8AAvmuMRvKgBRQEW3B1d36NEoBAAMCAANtAAMpBA\",\"file_unique_id\":\"AQAD-a4xG8qAFFBy\",\"file_size\":23864,\"width\":320,\"height\":168},{\"file_id\":\"AgACAgQAAxkDAANAYwUphy_Wm6I7_V0jTLcO67Sjtc8AAvmuMRvKgBRQEW3B1d36NEoBAAMCAAN4AAMpBA\",\"file_unique_id\":\"AQAD-a4xG8qAFFB9\",\"file_size\":132521,\"width\":800,\"height\":420},{\"file_id\":\"AgACAgQAAxkDAANAYwUphy_Wm6I7_V0jTLcO67Sjtc8AAvmuMRvKgBRQEW3B1d36NEoBAAMCAAN5AAMpBA\",\"file_unique_id\":\"AQAD-a4xG8qAFFB-\",\"file_size\":216559,\"width\":1200,\"height\":630}]}}\n",
      "{\"ok\":true,\"result\":{\"message_id\":65,\"from\":{\"id\":5665382544,\"is_bot\":true,\"first_name\":\"Foram bot\",\"username\":\"shubham_panwala_bot\"},\"chat\":{\"id\":-674797008,\"title\":\"Happy family\",\"type\":\"group\",\"all_members_are_administrators\":true},\"date\":1661282701,\"photo\":[{\"file_id\":\"AgACAgQAAxkDAANBYwUpjSXhgVoy0K2CMyI_TmtWY1YAAimuMRuXMhxQOnTJOCYmfxMBAAMCAANzAAMpBA\",\"file_unique_id\":\"AQADKa4xG5cyHFB4\",\"file_size\":1505,\"width\":90,\"height\":47},{\"file_id\":\"AgACAgQAAxkDAANBYwUpjSXhgVoy0K2CMyI_TmtWY1YAAimuMRuXMhxQOnTJOCYmfxMBAAMCAANtAAMpBA\",\"file_unique_id\":\"AQADKa4xG5cyHFBy\",\"file_size\":29580,\"width\":320,\"height\":168},{\"file_id\":\"AgACAgQAAxkDAANBYwUpjSXhgVoy0K2CMyI_TmtWY1YAAimuMRuXMhxQOnTJOCYmfxMBAAMCAAN4AAMpBA\",\"file_unique_id\":\"AQADKa4xG5cyHFB9\",\"file_size\":166824,\"width\":800,\"height\":420},{\"file_id\":\"AgACAgQAAxkDAANBYwUpjSXhgVoy0K2CMyI_TmtWY1YAAimuMRuXMhxQOnTJOCYmfxMBAAMCAAN5AAMpBA\",\"file_unique_id\":\"AQADKa4xG5cyHFB-\",\"file_size\":277038,\"width\":1200,\"height\":630}]}}\n",
      "{\"ok\":true,\"result\":{\"message_id\":66,\"from\":{\"id\":5665382544,\"is_bot\":true,\"first_name\":\"Foram bot\",\"username\":\"shubham_panwala_bot\"},\"chat\":{\"id\":-674797008,\"title\":\"Happy family\",\"type\":\"group\",\"all_members_are_administrators\":true},\"date\":1661282710,\"photo\":[{\"file_id\":\"AgACAgQAAxkDAANCYwUpljMVPg5kOA4ci5ba7o42CSYAAsKuMRtK4y1Q17oUtcqgntYBAAMCAANzAAMpBA\",\"file_unique_id\":\"AQADwq4xG0rjLVB4\",\"file_size\":1101,\"width\":90,\"height\":47},{\"file_id\":\"AgACAgQAAxkDAANCYwUpljMVPg5kOA4ci5ba7o42CSYAAsKuMRtK4y1Q17oUtcqgntYBAAMCAANtAAMpBA\",\"file_unique_id\":\"AQADwq4xG0rjLVBy\",\"file_size\":14516,\"width\":320,\"height\":168},{\"file_id\":\"AgACAgQAAxkDAANCYwUpljMVPg5kOA4ci5ba7o42CSYAAsKuMRtK4y1Q17oUtcqgntYBAAMCAAN4AAMpBA\",\"file_unique_id\":\"AQADwq4xG0rjLVB9\",\"file_size\":60027,\"width\":800,\"height\":420},{\"file_id\":\"AgACAgQAAxkDAANCYwUpljMVPg5kOA4ci5ba7o42CSYAAsKuMRtK4y1Q17oUtcqgntYBAAMCAAN5AAMpBA\",\"file_unique_id\":\"AQADwq4xG0rjLVB-\",\"file_size\":91573,\"width\":1200,\"height\":630}]}}\n",
      "{\"ok\":true,\"result\":{\"message_id\":67,\"from\":{\"id\":5665382544,\"is_bot\":true,\"first_name\":\"Foram bot\",\"username\":\"shubham_panwala_bot\"},\"chat\":{\"id\":-674797008,\"title\":\"Happy family\",\"type\":\"group\",\"all_members_are_administrators\":true},\"date\":1661282722,\"photo\":[{\"file_id\":\"AgACAgQAAxkDAANDYwUpog1mUw3FoxzNa8d_d8N6XQsAAtiuMRvH6C1QDgYjMk0mVbIBAAMCAANzAAMpBA\",\"file_unique_id\":\"AQAD2K4xG8foLVB4\",\"file_size\":1270,\"width\":90,\"height\":47},{\"file_id\":\"AgACAgQAAxkDAANDYwUpog1mUw3FoxzNa8d_d8N6XQsAAtiuMRvH6C1QDgYjMk0mVbIBAAMCAANtAAMpBA\",\"file_unique_id\":\"AQAD2K4xG8foLVBy\",\"file_size\":20283,\"width\":320,\"height\":168},{\"file_id\":\"AgACAgQAAxkDAANDYwUpog1mUw3FoxzNa8d_d8N6XQsAAtiuMRvH6C1QDgYjMk0mVbIBAAMCAAN4AAMpBA\",\"file_unique_id\":\"AQAD2K4xG8foLVB9\",\"file_size\":86698,\"width\":800,\"height\":420},{\"file_id\":\"AgACAgQAAxkDAANDYwUpog1mUw3FoxzNa8d_d8N6XQsAAtiuMRvH6C1QDgYjMk0mVbIBAAMCAAN5AAMpBA\",\"file_unique_id\":\"AQAD2K4xG8foLVB-\",\"file_size\":130991,\"width\":1200,\"height\":630}]}}\n",
      "{\"ok\":true,\"result\":{\"message_id\":68,\"from\":{\"id\":5665382544,\"is_bot\":true,\"first_name\":\"Foram bot\",\"username\":\"shubham_panwala_bot\"},\"chat\":{\"id\":-674797008,\"title\":\"Happy family\",\"type\":\"group\",\"all_members_are_administrators\":true},\"date\":1661282734,\"photo\":[{\"file_id\":\"AgACAgQAAxkDAANEYwUprkkSVE3yvnSOJ3NiD3-eGBgAAtquMRvThS1QcgKUZq__IT8BAAMCAANzAAMpBA\",\"file_unique_id\":\"AQAD2q4xG9OFLVB4\",\"file_size\":1002,\"width\":90,\"height\":47},{\"file_id\":\"AgACAgQAAxkDAANEYwUprkkSVE3yvnSOJ3NiD3-eGBgAAtquMRvThS1QcgKUZq__IT8BAAMCAANtAAMpBA\",\"file_unique_id\":\"AQAD2q4xG9OFLVBy\",\"file_size\":10614,\"width\":320,\"height\":168},{\"file_id\":\"AgACAgQAAxkDAANEYwUprkkSVE3yvnSOJ3NiD3-eGBgAAtquMRvThS1QcgKUZq__IT8BAAMCAAN4AAMpBA\",\"file_unique_id\":\"AQAD2q4xG9OFLVB9\",\"file_size\":38673,\"width\":800,\"height\":420},{\"file_id\":\"AgACAgQAAxkDAANEYwUprkkSVE3yvnSOJ3NiD3-eGBgAAtquMRvThS1QcgKUZq__IT8BAAMCAAN5AAMpBA\",\"file_unique_id\":\"AQAD2q4xG9OFLVB-\",\"file_size\":55843,\"width\":1200,\"height\":630}]}}\n",
      "{\"ok\":true,\"result\":{\"message_id\":69,\"from\":{\"id\":5665382544,\"is_bot\":true,\"first_name\":\"Foram bot\",\"username\":\"shubham_panwala_bot\"},\"chat\":{\"id\":-674797008,\"title\":\"Happy family\",\"type\":\"group\",\"all_members_are_administrators\":true},\"date\":1661282743,\"photo\":[{\"file_id\":\"AgACAgQAAxkDAANFYwUpt6v_yselpLYtNmUVu6vk7R8AAt6uMRuYbSxQH_mXG3aLNvEBAAMCAANzAAMpBA\",\"file_unique_id\":\"AQAD3q4xG5htLFB4\",\"file_size\":1531,\"width\":90,\"height\":47},{\"file_id\":\"AgACAgQAAxkDAANFYwUpt6v_yselpLYtNmUVu6vk7R8AAt6uMRuYbSxQH_mXG3aLNvEBAAMCAANtAAMpBA\",\"file_unique_id\":\"AQAD3q4xG5htLFBy\",\"file_size\":22883,\"width\":320,\"height\":168},{\"file_id\":\"AgACAgQAAxkDAANFYwUpt6v_yselpLYtNmUVu6vk7R8AAt6uMRuYbSxQH_mXG3aLNvEBAAMCAAN4AAMpBA\",\"file_unique_id\":\"AQAD3q4xG5htLFB9\",\"file_size\":99286,\"width\":800,\"height\":420},{\"file_id\":\"AgACAgQAAxkDAANFYwUpt6v_yselpLYtNmUVu6vk7R8AAt6uMRuYbSxQH_mXG3aLNvEBAAMCAAN5AAMpBA\",\"file_unique_id\":\"AQAD3q4xG5htLFB-\",\"file_size\":149610,\"width\":1200,\"height\":630}]}}\n",
      "{\"ok\":true,\"result\":{\"message_id\":70,\"from\":{\"id\":5665382544,\"is_bot\":true,\"first_name\":\"Foram bot\",\"username\":\"shubham_panwala_bot\"},\"chat\":{\"id\":-674797008,\"title\":\"Happy family\",\"type\":\"group\",\"all_members_are_administrators\":true},\"date\":1661282754,\"photo\":[{\"file_id\":\"AgACAgQAAxkDAANGYwUpwhQ_qEkcaE2y7kLuAAGDA4gxAAKurjEbQ8QtUOiVEh84CHBsAQADAgADcwADKQQ\",\"file_unique_id\":\"AQADrq4xG0PELVB4\",\"file_size\":1301,\"width\":90,\"height\":47},{\"file_id\":\"AgACAgQAAxkDAANGYwUpwhQ_qEkcaE2y7kLuAAGDA4gxAAKurjEbQ8QtUOiVEh84CHBsAQADAgADbQADKQQ\",\"file_unique_id\":\"AQADrq4xG0PELVBy\",\"file_size\":18442,\"width\":320,\"height\":168},{\"file_id\":\"AgACAgQAAxkDAANGYwUpwhQ_qEkcaE2y7kLuAAGDA4gxAAKurjEbQ8QtUOiVEh84CHBsAQADAgADeAADKQQ\",\"file_unique_id\":\"AQADrq4xG0PELVB9\",\"file_size\":71547,\"width\":800,\"height\":420},{\"file_id\":\"AgACAgQAAxkDAANGYwUpwhQ_qEkcaE2y7kLuAAGDA4gxAAKurjEbQ8QtUOiVEh84CHBsAQADAgADeQADKQQ\",\"file_unique_id\":\"AQADrq4xG0PELVB-\",\"file_size\":101894,\"width\":1200,\"height\":630}]}}\n",
      "{\"ok\":true,\"result\":{\"message_id\":71,\"from\":{\"id\":5665382544,\"is_bot\":true,\"first_name\":\"Foram bot\",\"username\":\"shubham_panwala_bot\"},\"chat\":{\"id\":-674797008,\"title\":\"Happy family\",\"type\":\"group\",\"all_members_are_administrators\":true},\"date\":1661282766,\"photo\":[{\"file_id\":\"AgACAgQAAxkDAANHYwUpzpsToi4helvX0IhEgDbAbaEAAtqtMRunbzVQSRsiHc--X-EBAAMCAANzAAMpBA\",\"file_unique_id\":\"AQAD2q0xG6dvNVB4\",\"file_size\":1002,\"width\":90,\"height\":47},{\"file_id\":\"AgACAgQAAxkDAANHYwUpzpsToi4helvX0IhEgDbAbaEAAtqtMRunbzVQSRsiHc--X-EBAAMCAANtAAMpBA\",\"file_unique_id\":\"AQAD2q0xG6dvNVBy\",\"file_size\":14800,\"width\":320,\"height\":168},{\"file_id\":\"AgACAgQAAxkDAANHYwUpzpsToi4helvX0IhEgDbAbaEAAtqtMRunbzVQSRsiHc--X-EBAAMCAAN4AAMpBA\",\"file_unique_id\":\"AQAD2q0xG6dvNVB9\",\"file_size\":78690,\"width\":800,\"height\":420},{\"file_id\":\"AgACAgQAAxkDAANHYwUpzpsToi4helvX0IhEgDbAbaEAAtqtMRunbzVQSRsiHc--X-EBAAMCAAN5AAMpBA\",\"file_unique_id\":\"AQAD2q0xG6dvNVB-\",\"file_size\":131552,\"width\":1200,\"height\":630}]}}\n",
      "{\"ok\":true,\"result\":{\"message_id\":72,\"from\":{\"id\":5665382544,\"is_bot\":true,\"first_name\":\"Foram bot\",\"username\":\"shubham_panwala_bot\"},\"chat\":{\"id\":-674797008,\"title\":\"Happy family\",\"type\":\"group\",\"all_members_are_administrators\":true},\"date\":1661282774,\"photo\":[{\"file_id\":\"AgACAgQAAxkDAANIYwUp1gT7-FmbpWmYNk3XNQrebsUAApSuMRss7ixQ0pd00Tuh_sQBAAMCAANzAAMpBA\",\"file_unique_id\":\"AQADlK4xGyzuLFB4\",\"file_size\":1143,\"width\":90,\"height\":47},{\"file_id\":\"AgACAgQAAxkDAANIYwUp1gT7-FmbpWmYNk3XNQrebsUAApSuMRss7ixQ0pd00Tuh_sQBAAMCAANtAAMpBA\",\"file_unique_id\":\"AQADlK4xGyzuLFBy\",\"file_size\":19531,\"width\":320,\"height\":168},{\"file_id\":\"AgACAgQAAxkDAANIYwUp1gT7-FmbpWmYNk3XNQrebsUAApSuMRss7ixQ0pd00Tuh_sQBAAMCAAN4AAMpBA\",\"file_unique_id\":\"AQADlK4xGyzuLFB9\",\"file_size\":97848,\"width\":800,\"height\":420},{\"file_id\":\"AgACAgQAAxkDAANIYwUp1gT7-FmbpWmYNk3XNQrebsUAApSuMRss7ixQ0pd00Tuh_sQBAAMCAAN5AAMpBA\",\"file_unique_id\":\"AQADlK4xGyzuLFB-\",\"file_size\":153644,\"width\":1200,\"height\":630}]}}\n"
     ]
    }
   ],
   "source": [
    "import requests \n",
    "import random\n",
    "import time\n",
    "\n",
    "base_url = \"https://api.telegram.org/bot5665382544:AAGalE88IjUtJRD4b7UxuPbhOeBZTpzKvFg/sendPhoto\"\n",
    "\n",
    "photos_url = [\n",
    "    \"https://unsplash.com/photos/6kBQEeyMdeg\",\n",
    "    \"https://unsplash.com/photos/it-_C9yfRIM\",\n",
    "    \"https://unsplash.com/photos/EOaYskDih0U\",\n",
    "    \"https://unsplash.com/photos/_1KKLsOhTlk\",\n",
    "    \"https://unsplash.com/photos/987QoiLoq6Q\",\n",
    "    \"https://unsplash.com/photos/CrT0nYf9_1w\",\n",
    "    \"https://unsplash.com/photos/zND9T4dokkE\",\n",
    "    \"https://unsplash.com/photos/Rm5hTyEMgl4\",\n",
    "    \"https://unsplash.com/photos/zy_I2F4dmPY\",\n",
    "    \"https://unsplash.com/photos/w3aKkF9WfVw\",\n",
    "    \"https://unsplash.com/photos/8DD1lA7oW2U\"\n",
    "]\n",
    "\n",
    "for adds in photos_url:\n",
    "    time.sleep(random.randint(2, 10))\n",
    "    parameters = {\n",
    "        \"chat_id\" : \"-674797008\",\n",
    "        \"photo\" : adds,\n",
    "        \n",
    "        \n",
    "    }\n",
    "    p = requests.get(base_url, data = parameters)\n",
    "    print(p.text)"
   ]
  },
  {
   "cell_type": "markdown",
   "metadata": {},
   "source": [
    "# Sending Audio File from URL\n",
    "\n",
    "Bensound is a real Audio"
   ]
  },
  {
   "cell_type": "code",
   "execution_count": 3,
   "metadata": {},
   "outputs": [
    {
     "name": "stdout",
     "output_type": "stream",
     "text": [
      "{\"ok\":true,\"result\":{\"message_id\":54,\"from\":{\"id\":5665382544,\"is_bot\":true,\"first_name\":\"Foram bot\",\"username\":\"shubham_panwala_bot\"},\"chat\":{\"id\":-674797008,\"title\":\"Happy family\",\"type\":\"group\",\"all_members_are_administrators\":true},\"date\":1661112120,\"audio\":{\"duration\":146,\"file_name\":\"bensound-ukulele.mp3\",\"mime_type\":\"audio/mpeg\",\"file_id\":\"CQACAgQAAxkDAAM2YwKPOL_dxJ-qmceALrXUBwighmkAAq0HAQAB5xxkByxOhE36LHhuKQQ\",\"file_unique_id\":\"AgADrQcBAAHnHGQH\",\"file_size\":2050193},\"caption\":\"here is an audio file for you\"}}\n"
     ]
    }
   ],
   "source": [
    "import requests\n",
    "import time\n",
    "\n",
    "base_url = \"https://api.telegram.org/bot5665382544:AAGalE88IjUtJRD4b7UxuPbhOeBZTpzKvFg/sendAudio\"\n",
    "\n",
    "parameters = {\n",
    "    \"chat_id\" : \"-674797008\",\n",
    "    \"audio\" : \"https://www.bensound.com/bensound-music/bensound-ukulele.mp3\",\n",
    "    \"caption\" : \"here is an audio file for you\"\n",
    "}\n",
    "\n",
    "resp = requests.get(base_url, data = parameters)\n",
    "print(resp.text)\n"
   ]
  },
  {
   "cell_type": "markdown",
   "metadata": {},
   "source": [
    "# Sending Audio File from Local Disk or Drive"
   ]
  },
  {
   "cell_type": "code",
   "execution_count": 4,
   "metadata": {},
   "outputs": [
    {
     "name": "stdout",
     "output_type": "stream",
     "text": [
      "{\"ok\":true,\"result\":{\"message_id\":61,\"from\":{\"id\":5665382544,\"is_bot\":true,\"first_name\":\"Foram bot\",\"username\":\"shubham_panwala_bot\"},\"chat\":{\"id\":-674797008,\"title\":\"Happy family\",\"type\":\"group\",\"all_members_are_administrators\":true},\"date\":1661282633,\"audio\":{\"duration\":123,\"file_name\":\"bensound-windowtotheworld.mp3\",\"mime_type\":\"audio/mpeg\",\"file_id\":\"CQACAgUAAxkDAAM9YwUpST7Seq-cAAFnJSiWkrGr7q8nAAKOBwAC1vcoVHveOQX19YtSKQQ\",\"file_unique_id\":\"AgADjgcAAtb3KFQ\",\"file_size\":2960607},\"caption\":\"This is audio file\"}}\n"
     ]
    }
   ],
   "source": [
    "import requests\n",
    "import time\n",
    "\n",
    "base_url = \"https://api.telegram.org/bot5665382544:AAGalE88IjUtJRD4b7UxuPbhOeBZTpzKvFg/sendAudio\"\n",
    "\n",
    "my_file = open(\"E:\\\\IACSD_PROJECT_RELATED_PAPER\\\\Telegram-message\\\\fol-owlows\\\\bensound-windowtotheworld.mp3\",\"rb\")\n",
    "\n",
    "\n",
    "parameters = {\n",
    "    \"chat_id\" : \"-674797008\",\n",
    "    \"caption\" : \"This is audio file\"\n",
    "}\n",
    "\n",
    "\n",
    "files = {\n",
    "    \"audio\" : my_file\n",
    "}\n",
    "\n",
    "resp = requests.get(base_url, data = parameters, files=files)\n",
    "print(resp.text)\n"
   ]
  },
  {
   "cell_type": "markdown",
   "metadata": {},
   "source": [
    "# Sending a multiple audio file to local disk"
   ]
  },
  {
   "cell_type": "code",
   "execution_count": 12,
   "metadata": {},
   "outputs": [
    {
     "name": "stdout",
     "output_type": "stream",
     "text": [
      "{\"ok\":true,\"result\":{\"message_id\":81,\"from\":{\"id\":5665382544,\"is_bot\":true,\"first_name\":\"Foram bot\",\"username\":\"shubham_panwala_bot\"},\"chat\":{\"id\":-674797008,\"title\":\"Happy family\",\"type\":\"group\",\"all_members_are_administrators\":true},\"date\":1661284619,\"audio\":{\"duration\":0,\"file_name\":\"audio\",\"mime_type\":\"audio/mpeg\",\"file_id\":\"CQACAgUAAxkDAANRYwUxCzGtz762k7_4M3-E2sy0HokAApkHAALW9yhUCUiqSkQQ1PIpBA\",\"file_unique_id\":\"AgADmQcAAtb3KFQ\",\"file_size\":89},\"caption\":\"This is audio file\"}}\n",
      "{\"ok\":true,\"result\":{\"message_id\":82,\"from\":{\"id\":5665382544,\"is_bot\":true,\"first_name\":\"Foram bot\",\"username\":\"shubham_panwala_bot\"},\"chat\":{\"id\":-674797008,\"title\":\"Happy family\",\"type\":\"group\",\"all_members_are_administrators\":true},\"date\":1661284641,\"audio\":{\"duration\":0,\"file_name\":\"audio\",\"mime_type\":\"audio/mpeg\",\"file_id\":\"CQACAgUAAxkDAANSYwUxISHvz-vWyw4VrKrwJvrXxSwAApoHAALW9yhUDyRN7RwKegMpBA\",\"file_unique_id\":\"AgADmgcAAtb3KFQ\",\"file_size\":83},\"caption\":\"This is audio file\"}}\n",
      "{\"ok\":true,\"result\":{\"message_id\":83,\"from\":{\"id\":5665382544,\"is_bot\":true,\"first_name\":\"Foram bot\",\"username\":\"shubham_panwala_bot\"},\"chat\":{\"id\":-674797008,\"title\":\"Happy family\",\"type\":\"group\",\"all_members_are_administrators\":true},\"date\":1661284662,\"audio\":{\"duration\":0,\"file_name\":\"audio\",\"mime_type\":\"audio/mpeg\",\"file_id\":\"CQACAgUAAxkDAANTYwUxNujvXayEiQlYRWNC4lgoXpEAApsHAALW9yhUd4u_bJ-RHkkpBA\",\"file_unique_id\":\"AgADmwcAAtb3KFQ\",\"file_size\":89},\"caption\":\"This is audio file\"}}\n",
      "{\"ok\":true,\"result\":{\"message_id\":84,\"from\":{\"id\":5665382544,\"is_bot\":true,\"first_name\":\"Foram bot\",\"username\":\"shubham_panwala_bot\"},\"chat\":{\"id\":-674797008,\"title\":\"Happy family\",\"type\":\"group\",\"all_members_are_administrators\":true},\"date\":1661284683,\"audio\":{\"duration\":0,\"file_name\":\"audio\",\"mime_type\":\"audio/mpeg\",\"file_id\":\"CQACAgUAAxkDAANUYwUxS-o68FsEVcsZNEOqz5-e7xgAApwHAALW9yhUYcOXy8ML6YYpBA\",\"file_unique_id\":\"AgADnAcAAtb3KFQ\",\"file_size\":87},\"caption\":\"This is audio file\"}}\n",
      "{\"ok\":true,\"result\":{\"message_id\":85,\"from\":{\"id\":5665382544,\"is_bot\":true,\"first_name\":\"Foram bot\",\"username\":\"shubham_panwala_bot\"},\"chat\":{\"id\":-674797008,\"title\":\"Happy family\",\"type\":\"group\",\"all_members_are_administrators\":true},\"date\":1661284704,\"audio\":{\"duration\":0,\"file_name\":\"audio\",\"mime_type\":\"audio/mpeg\",\"file_id\":\"CQACAgUAAxkDAANVYwUxYJa1AznO128yLTlOFwRV7gYAAp0HAALW9yhUEZCtQLwN6BYpBA\",\"file_unique_id\":\"AgADnQcAAtb3KFQ\",\"file_size\":79},\"caption\":\"This is audio file\"}}\n",
      "{\"ok\":true,\"result\":{\"message_id\":86,\"from\":{\"id\":5665382544,\"is_bot\":true,\"first_name\":\"Foram bot\",\"username\":\"shubham_panwala_bot\"},\"chat\":{\"id\":-674797008,\"title\":\"Happy family\",\"type\":\"group\",\"all_members_are_administrators\":true},\"date\":1661284726,\"audio\":{\"duration\":0,\"file_name\":\"audio\",\"mime_type\":\"audio/mpeg\",\"file_id\":\"CQACAgUAAxkDAANWYwUxdSSpJVuApGITL8hlGhw_8rkAAp4HAALW9yhUbtLWCe19W6wpBA\",\"file_unique_id\":\"AgADngcAAtb3KFQ\",\"file_size\":2},\"caption\":\"This is audio file\"}}\n"
     ]
    }
   ],
   "source": [
    "import requests\n",
    "import time\n",
    "\n",
    "base_url = \"https://api.telegram.org/bot5665382544:AAGalE88IjUtJRD4b7UxuPbhOeBZTpzKvFg/sendAudio\"\n",
    "\n",
    "my_file = [\"E:\\\\IACSD_PROJECT_RELATED_PAPER\\\\Telegram-message\\\\fol-owlows\\\\song\\\\bensound-wonderfulmorning\",\n",
    "           \"E:\\\\IACSD_PROJECT_RELATED_PAPER\\\\Telegram-message\\\\fol-owlows\\\\song\\bensound-dayafterday\",\n",
    "           \"E:\\\\IACSD_PROJECT_RELATED_PAPER\\\\Telegram-message\\\\fol-owlows\\\\song\\\\bensound-thethirteenthday\",\n",
    "           \"E:\\\\IACSD_PROJECT_RELATED_PAPER\\\\Telegram-message\\\\fol-owlows\\\\song\\\\bensound-thisisyourtime\",\n",
    "           \"E:\\\\IACSD_PROJECT_RELATED_PAPER\\\\Telegram-message\\\\fol-owlows\\\\song\\\\bensound-wonder\",\"rb\"]\n",
    "\n",
    "parameters = {\n",
    "    \"chat_id\" : \"-674797008\",\n",
    "    \"caption\" : \"This is audio file\"\n",
    "}\n",
    "\n",
    "\n",
    "for audio_file in my_file:\n",
    "    time.sleep(20)\n",
    "    files = {\n",
    "        \"audio\" : audio_file\n",
    "    }\n",
    "    sp = requests.get(base_url, data = parameters, files=files)\n",
    "    print(sp.text)\n"
   ]
  },
  {
   "cell_type": "markdown",
   "metadata": {},
   "source": [
    "# Sending a  csv file to local disk\n"
   ]
  },
  {
   "cell_type": "code",
   "execution_count": 17,
   "metadata": {
    "scrolled": true
   },
   "outputs": [
    {
     "name": "stdout",
     "output_type": "stream",
     "text": [
      "{\"ok\":true,\"result\":{\"message_id\":87,\"from\":{\"id\":5665382544,\"is_bot\":true,\"first_name\":\"Foram bot\",\"username\":\"shubham_panwala_bot\"},\"chat\":{\"id\":-674797008,\"title\":\"Happy family\",\"type\":\"group\",\"all_members_are_administrators\":true},\"date\":1661287859,\"document\":{\"file_name\":\"ipl.csv\",\"mime_type\":\"text/csv\",\"file_id\":\"BQACAgUAAxkDAANXYwU9s_OQKdUb8gqZMx9fEelQwCQAAp8HAALW9yhUVBI2HO7zD9gpBA\",\"file_unique_id\":\"AgADnwcAAtb3KFQ\",\"file_size\":9484410},\"caption\":\"here is another document for you\"}}\n"
     ]
    }
   ],
   "source": [
    "import requests\n",
    "\n",
    "\n",
    "base_url = \"https://api.telegram.org/bot5665382544:AAGalE88IjUtJRD4b7UxuPbhOeBZTpzKvFg/sendDocument\"\n",
    "\n",
    "my_file = open(\"E:\\\\IACSD_PROJECT_RELATED_PAPER\\\\all-code-file\\\\IPL-First-Innings-Score-Prediction-Deployment-master\\\\ipl.csv\", \"rb\")\n",
    "\n",
    "parameters = {\n",
    "    \"chat_id\" : \"-674797008\",\n",
    "    \"caption\" : \"here is another document for you\"\n",
    "}\n",
    "\n",
    "\n",
    "files = {\n",
    "    \"document\" : my_file\n",
    "}\n",
    "\n",
    "resp = requests.get(base_url, data = parameters, files=files)\n",
    "print(resp.text)\n"
   ]
  },
  {
   "cell_type": "code",
   "execution_count": null,
   "metadata": {},
   "outputs": [],
   "source": [
    "import requests\n",
    "\n",
    "\n",
    "base_url = \"https://api.telegram.org/bot5665382544:AAGalE88IjUtJRD4b7UxuPbhOeBZTpzKvFg/sendDocument\"\n",
    "\n",
    "my_file = open(\"F:\\\\IACSD-PROJECT-MECHANICAL-IACSD-PROJECT-MECHNICAL-TOOL\\\\Deep Learning for Computer Vision with Python by Adrian Rosebrock (z-lib.org).pdf\", \"rb\")\n",
    "\n",
    "parameters = {\n",
    "    \"chat_id\" : \"-674797008\",\n",
    "    \"caption\" : \"here is another document for you\"\n",
    "}\n",
    "\n",
    "\n",
    "files = {\n",
    "    \"document\" : my_file\n",
    "}\n",
    "\n",
    "resp = requests.get(base_url, data = parameters, files=files)\n",
    "print(resp.text)"
   ]
  },
  {
   "cell_type": "markdown",
   "metadata": {},
   "source": [
    "# Sending a  multiple csv file to local disk"
   ]
  },
  {
   "cell_type": "code",
   "execution_count": null,
   "metadata": {},
   "outputs": [],
   "source": []
  },
  {
   "cell_type": "markdown",
   "metadata": {},
   "source": [
    "# import requests\n",
    "import time\n",
    "\n",
    "base_url = \"https://api.telegram.org/bot5665382544:AAGalE88IjUtJRD4b7UxuPbhOeBZTpzKvFg/sendPhoto\"\n",
    "\n",
    "urls = [\n",
    "        \"https://unsplash.com/photos/jv15x2Gs5F8/download?force=true\",\n",
    "        \"https://unsplash.com/photos/miKmVyq3qhE/download?force=true\",\n",
    "        \"https://unsplash.com/photos/tMzCrBkM99Y/download?force=true\"\n",
    "        \n",
    "]\n",
    "\n",
    "for url in urls:\n",
    "  time.sleep(10)  \n",
    "  parameters = {\n",
    "      \"chat_id\" : \"-402253018\",\n",
    "      \"photo\" : url,\n",
    "      \"caption\" : \"here is travel photo for you\"\n",
    "  }\n",
    "\n",
    "  resp = requests.get(base_url, data = parameters)\n",
    "  print(resp.text)\n"
   ]
  },
  {
   "cell_type": "code",
   "execution_count": null,
   "metadata": {},
   "outputs": [],
   "source": []
  }
 ],
 "metadata": {
  "kernelspec": {
   "display_name": "Python 3",
   "language": "python",
   "name": "python3"
  },
  "language_info": {
   "codemirror_mode": {
    "name": "ipython",
    "version": 3
   },
   "file_extension": ".py",
   "mimetype": "text/x-python",
   "name": "python",
   "nbconvert_exporter": "python",
   "pygments_lexer": "ipython3",
   "version": "3.8.5"
  }
 },
 "nbformat": 4,
 "nbformat_minor": 4
}
